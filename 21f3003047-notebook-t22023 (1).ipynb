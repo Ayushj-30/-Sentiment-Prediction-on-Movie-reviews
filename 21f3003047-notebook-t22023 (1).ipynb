{
 "cells": [
  {
   "cell_type": "code",
   "execution_count": 1,
   "id": "576fd7c2",
   "metadata": {
    "_cell_guid": "b1076dfc-b9ad-4769-8c92-a6c4dae69d19",
    "_uuid": "8f2839f25d086af736a60e9eeb907d3b93b6e0e5",
    "execution": {
     "iopub.execute_input": "2023-08-13T15:29:23.412137Z",
     "iopub.status.busy": "2023-08-13T15:29:23.411411Z",
     "iopub.status.idle": "2023-08-13T15:29:23.425749Z",
     "shell.execute_reply": "2023-08-13T15:29:23.424728Z"
    },
    "papermill": {
     "duration": 0.038711,
     "end_time": "2023-08-13T15:29:23.427693",
     "exception": false,
     "start_time": "2023-08-13T15:29:23.388982",
     "status": "completed"
    },
    "tags": []
   },
   "outputs": [
    {
     "name": "stdout",
     "output_type": "stream",
     "text": [
      "/kaggle/input/sentiment-prediction-on-movie-reviews/movies.csv\n",
      "/kaggle/input/sentiment-prediction-on-movie-reviews/sample.csv\n",
      "/kaggle/input/sentiment-prediction-on-movie-reviews/train.csv\n",
      "/kaggle/input/sentiment-prediction-on-movie-reviews/test.csv\n"
     ]
    }
   ],
   "source": [
    "# This Python 3 environment comes with many helpful analytics libraries installed\n",
    "# It is defined by the kaggle/python Docker image: https://github.com/kaggle/docker-python\n",
    "# For example, here's several helpful packages to load\n",
    "\n",
    "import numpy as np # linear algebra\n",
    "import pandas as pd # data processing, CSV file I/O (e.g. pd.read_csv)\n",
    "\n",
    "# Input data files are available in the read-only \"../input/\" directory\n",
    "# For example, running this (by clicking run or pressing Shift+Enter) will list all files under the input directory\n",
    "\n",
    "import os\n",
    "for dirname, _, filenames in os.walk('/kaggle/input'):\n",
    "    for filename in filenames:\n",
    "        print(os.path.join(dirname, filename))\n",
    "\n",
    "# You can write up to 20GB to the current directory (/kaggle/working/) that gets preserved as output when you create a version using \"Save & Run All\" \n",
    "# You can also write temporary files to /kaggle/temp/, but they won't be saved outside of the current session"
   ]
  },
  {
   "cell_type": "markdown",
   "id": "6e8c5f9b",
   "metadata": {
    "papermill": {
     "duration": 0.019348,
     "end_time": "2023-08-13T15:29:23.466785",
     "exception": false,
     "start_time": "2023-08-13T15:29:23.447437",
     "status": "completed"
    },
    "tags": []
   },
   "source": [
    "# **DATA LOADING**"
   ]
  },
  {
   "cell_type": "code",
   "execution_count": 2,
   "id": "e5bd1439",
   "metadata": {
    "execution": {
     "iopub.execute_input": "2023-08-13T15:29:23.508181Z",
     "iopub.status.busy": "2023-08-13T15:29:23.507405Z",
     "iopub.status.idle": "2023-08-13T15:29:25.773230Z",
     "shell.execute_reply": "2023-08-13T15:29:25.772422Z"
    },
    "papermill": {
     "duration": 2.288708,
     "end_time": "2023-08-13T15:29:25.775628",
     "exception": false,
     "start_time": "2023-08-13T15:29:23.486920",
     "status": "completed"
    },
    "tags": []
   },
   "outputs": [],
   "source": [
    "train = pd.read_csv(\"/kaggle/input/sentiment-prediction-on-movie-reviews/train.csv\")\n",
    "test = pd.read_csv(\"/kaggle/input/sentiment-prediction-on-movie-reviews/test.csv\")\n",
    "movies=pd.read_csv(\"/kaggle/input/sentiment-prediction-on-movie-reviews/movies.csv\")"
   ]
  },
  {
   "cell_type": "code",
   "execution_count": 3,
   "id": "f5d15fe3",
   "metadata": {
    "execution": {
     "iopub.execute_input": "2023-08-13T15:29:25.818640Z",
     "iopub.status.busy": "2023-08-13T15:29:25.818093Z",
     "iopub.status.idle": "2023-08-13T15:29:25.874020Z",
     "shell.execute_reply": "2023-08-13T15:29:25.873064Z"
    },
    "papermill": {
     "duration": 0.079232,
     "end_time": "2023-08-13T15:29:25.876085",
     "exception": false,
     "start_time": "2023-08-13T15:29:25.796853",
     "status": "completed"
    },
    "tags": []
   },
   "outputs": [
    {
     "name": "stdout",
     "output_type": "stream",
     "text": [
      "(143258, 14)\n",
      "(126404, 14)\n"
     ]
    }
   ],
   "source": [
    "#Removing Duplicates\n",
    "movies.head()\n",
    "print(movies.shape)\n",
    "movies.drop_duplicates(subset=[\"movieid\"], inplace=True)\n",
    "print(movies.shape)"
   ]
  },
  {
   "cell_type": "code",
   "execution_count": 4,
   "id": "9d6d5fbb",
   "metadata": {
    "execution": {
     "iopub.execute_input": "2023-08-13T15:29:25.916830Z",
     "iopub.status.busy": "2023-08-13T15:29:25.916552Z",
     "iopub.status.idle": "2023-08-13T15:29:26.144249Z",
     "shell.execute_reply": "2023-08-13T15:29:26.143361Z"
    },
    "papermill": {
     "duration": 0.250433,
     "end_time": "2023-08-13T15:29:26.146346",
     "exception": false,
     "start_time": "2023-08-13T15:29:25.895913",
     "status": "completed"
    },
    "tags": []
   },
   "outputs": [
    {
     "name": "stdout",
     "output_type": "stream",
     "text": [
      "(162758, 5)\n",
      "(162758, 18)\n"
     ]
    }
   ],
   "source": [
    "#merging the train dataset with movie dataset\n",
    "print(train.shape)\n",
    "train2=pd.merge(train,movies,how=\"left\",on=\"movieid\")\n",
    "print(train2.shape)"
   ]
  },
  {
   "cell_type": "code",
   "execution_count": 5,
   "id": "7454775b",
   "metadata": {
    "execution": {
     "iopub.execute_input": "2023-08-13T15:29:26.188249Z",
     "iopub.status.busy": "2023-08-13T15:29:26.187952Z",
     "iopub.status.idle": "2023-08-13T15:29:26.219757Z",
     "shell.execute_reply": "2023-08-13T15:29:26.218890Z"
    },
    "papermill": {
     "duration": 0.054649,
     "end_time": "2023-08-13T15:29:26.221581",
     "exception": false,
     "start_time": "2023-08-13T15:29:26.166932",
     "status": "completed"
    },
    "tags": []
   },
   "outputs": [
    {
     "data": {
      "text/html": [
       "<div>\n",
       "<style scoped>\n",
       "    .dataframe tbody tr th:only-of-type {\n",
       "        vertical-align: middle;\n",
       "    }\n",
       "\n",
       "    .dataframe tbody tr th {\n",
       "        vertical-align: top;\n",
       "    }\n",
       "\n",
       "    .dataframe thead th {\n",
       "        text-align: right;\n",
       "    }\n",
       "</style>\n",
       "<table border=\"1\" class=\"dataframe\">\n",
       "  <thead>\n",
       "    <tr style=\"text-align: right;\">\n",
       "      <th></th>\n",
       "      <th>movieid</th>\n",
       "      <th>reviewerName</th>\n",
       "      <th>isFrequentReviewer</th>\n",
       "      <th>reviewText</th>\n",
       "      <th>sentiment</th>\n",
       "      <th>title</th>\n",
       "      <th>audienceScore</th>\n",
       "      <th>rating</th>\n",
       "      <th>ratingContents</th>\n",
       "      <th>releaseDateTheaters</th>\n",
       "      <th>releaseDateStreaming</th>\n",
       "      <th>runtimeMinutes</th>\n",
       "      <th>genre</th>\n",
       "      <th>originalLanguage</th>\n",
       "      <th>director</th>\n",
       "      <th>boxOffice</th>\n",
       "      <th>distributor</th>\n",
       "      <th>soundType</th>\n",
       "    </tr>\n",
       "  </thead>\n",
       "  <tbody>\n",
       "    <tr>\n",
       "      <th>0</th>\n",
       "      <td>marvelous_pirate</td>\n",
       "      <td>Benjamin Henry</td>\n",
       "      <td>False</td>\n",
       "      <td>Henry Selick’s first movie since 2009’s Corali...</td>\n",
       "      <td>POSITIVE</td>\n",
       "      <td>Marvelous Pirate</td>\n",
       "      <td>65.0</td>\n",
       "      <td>PG-13</td>\n",
       "      <td>['Violence', 'Brief Strong Language', 'Substan...</td>\n",
       "      <td>2022-10-21</td>\n",
       "      <td>2022-10-28</td>\n",
       "      <td>105.0</td>\n",
       "      <td>Comedy, Animation, Adventure, Fantasy</td>\n",
       "      <td>English</td>\n",
       "      <td>Bennie Basso</td>\n",
       "      <td>NaN</td>\n",
       "      <td>Netflix</td>\n",
       "      <td>NaN</td>\n",
       "    </tr>\n",
       "    <tr>\n",
       "      <th>1</th>\n",
       "      <td>tony_montana_frodo_baggins_v_rocky_balboa</td>\n",
       "      <td>Felicia Lopez</td>\n",
       "      <td>False</td>\n",
       "      <td>With a cast that reads like the Vogue Oscar pa...</td>\n",
       "      <td>NEGATIVE</td>\n",
       "      <td>Tony Montana Frodo Baggins V Rocky Balboa</td>\n",
       "      <td>NaN</td>\n",
       "      <td>NaN</td>\n",
       "      <td>NaN</td>\n",
       "      <td>NaN</td>\n",
       "      <td>2013-01-08</td>\n",
       "      <td>91.0</td>\n",
       "      <td>Action</td>\n",
       "      <td>English</td>\n",
       "      <td>Alma White</td>\n",
       "      <td>NaN</td>\n",
       "      <td>NaN</td>\n",
       "      <td>NaN</td>\n",
       "    </tr>\n",
       "    <tr>\n",
       "      <th>2</th>\n",
       "      <td>darth_vader_katniss_everdeen_sorcerer_donnie_d...</td>\n",
       "      <td>Mr. Charles Burgess</td>\n",
       "      <td>True</td>\n",
       "      <td>Creed II does not give us anything but another...</td>\n",
       "      <td>POSITIVE</td>\n",
       "      <td>Darth Vader Katniss Everdeen Sorcerer Donnie D...</td>\n",
       "      <td>80.0</td>\n",
       "      <td>PG-13</td>\n",
       "      <td>['Language', 'A Scene of Sensuality', 'Sports ...</td>\n",
       "      <td>2018-11-21</td>\n",
       "      <td>2019-02-12</td>\n",
       "      <td>130.0</td>\n",
       "      <td>Drama</td>\n",
       "      <td>English</td>\n",
       "      <td>Bobby Oleary</td>\n",
       "      <td>$115.7M</td>\n",
       "      <td>Warner Bros. Pictures, Metro-Goldwyn-Mayer</td>\n",
       "      <td>NaN</td>\n",
       "    </tr>\n",
       "    <tr>\n",
       "      <th>3</th>\n",
       "      <td>lara_croft_glimmer</td>\n",
       "      <td>Ryan Barrett</td>\n",
       "      <td>False</td>\n",
       "      <td>I know what you're thinking, but this is no Li...</td>\n",
       "      <td>POSITIVE</td>\n",
       "      <td>Lara Croft Glimmer</td>\n",
       "      <td>NaN</td>\n",
       "      <td>NaN</td>\n",
       "      <td>NaN</td>\n",
       "      <td>NaN</td>\n",
       "      <td>2020-06-02</td>\n",
       "      <td>15.0</td>\n",
       "      <td>Drama</td>\n",
       "      <td>Spanish</td>\n",
       "      <td>Eric Hutcherson</td>\n",
       "      <td>NaN</td>\n",
       "      <td>NaN</td>\n",
       "      <td>NaN</td>\n",
       "    </tr>\n",
       "    <tr>\n",
       "      <th>4</th>\n",
       "      <td>jason_bourne_surreal_the_terminator_indiana_jones</td>\n",
       "      <td>Alexander Glover</td>\n",
       "      <td>False</td>\n",
       "      <td>Director Fernando Meirelles tells the story wi...</td>\n",
       "      <td>POSITIVE</td>\n",
       "      <td>Jason Bourne Surreal The Terminator Indiana Jones</td>\n",
       "      <td>97.0</td>\n",
       "      <td>R</td>\n",
       "      <td>['Language', 'Drug Content', 'Sexuality', 'Str...</td>\n",
       "      <td>2003-01-17</td>\n",
       "      <td>2004-06-08</td>\n",
       "      <td>131.0</td>\n",
       "      <td>Crime, Drama</td>\n",
       "      <td>Portuguese (Brazil)</td>\n",
       "      <td>John Trent</td>\n",
       "      <td>$7.6M</td>\n",
       "      <td>Miramax Films</td>\n",
       "      <td>Surround, Dolby SR, Dolby Digital, Dolby A, Do...</td>\n",
       "    </tr>\n",
       "  </tbody>\n",
       "</table>\n",
       "</div>"
      ],
      "text/plain": [
       "                                             movieid         reviewerName  \\\n",
       "0                                   marvelous_pirate       Benjamin Henry   \n",
       "1          tony_montana_frodo_baggins_v_rocky_balboa        Felicia Lopez   \n",
       "2  darth_vader_katniss_everdeen_sorcerer_donnie_d...  Mr. Charles Burgess   \n",
       "3                                 lara_croft_glimmer         Ryan Barrett   \n",
       "4  jason_bourne_surreal_the_terminator_indiana_jones     Alexander Glover   \n",
       "\n",
       "   isFrequentReviewer                                         reviewText  \\\n",
       "0               False  Henry Selick’s first movie since 2009’s Corali...   \n",
       "1               False  With a cast that reads like the Vogue Oscar pa...   \n",
       "2                True  Creed II does not give us anything but another...   \n",
       "3               False  I know what you're thinking, but this is no Li...   \n",
       "4               False  Director Fernando Meirelles tells the story wi...   \n",
       "\n",
       "  sentiment                                              title  audienceScore  \\\n",
       "0  POSITIVE                                   Marvelous Pirate           65.0   \n",
       "1  NEGATIVE          Tony Montana Frodo Baggins V Rocky Balboa            NaN   \n",
       "2  POSITIVE  Darth Vader Katniss Everdeen Sorcerer Donnie D...           80.0   \n",
       "3  POSITIVE                                 Lara Croft Glimmer            NaN   \n",
       "4  POSITIVE  Jason Bourne Surreal The Terminator Indiana Jones           97.0   \n",
       "\n",
       "  rating                                     ratingContents  \\\n",
       "0  PG-13  ['Violence', 'Brief Strong Language', 'Substan...   \n",
       "1    NaN                                                NaN   \n",
       "2  PG-13  ['Language', 'A Scene of Sensuality', 'Sports ...   \n",
       "3    NaN                                                NaN   \n",
       "4      R  ['Language', 'Drug Content', 'Sexuality', 'Str...   \n",
       "\n",
       "  releaseDateTheaters releaseDateStreaming  runtimeMinutes  \\\n",
       "0          2022-10-21           2022-10-28           105.0   \n",
       "1                 NaN           2013-01-08            91.0   \n",
       "2          2018-11-21           2019-02-12           130.0   \n",
       "3                 NaN           2020-06-02            15.0   \n",
       "4          2003-01-17           2004-06-08           131.0   \n",
       "\n",
       "                                   genre     originalLanguage  \\\n",
       "0  Comedy, Animation, Adventure, Fantasy              English   \n",
       "1                                 Action              English   \n",
       "2                                  Drama              English   \n",
       "3                                  Drama              Spanish   \n",
       "4                           Crime, Drama  Portuguese (Brazil)   \n",
       "\n",
       "          director boxOffice                                 distributor  \\\n",
       "0     Bennie Basso       NaN                                     Netflix   \n",
       "1       Alma White       NaN                                         NaN   \n",
       "2     Bobby Oleary   $115.7M  Warner Bros. Pictures, Metro-Goldwyn-Mayer   \n",
       "3  Eric Hutcherson       NaN                                         NaN   \n",
       "4       John Trent     $7.6M                               Miramax Films   \n",
       "\n",
       "                                           soundType  \n",
       "0                                                NaN  \n",
       "1                                                NaN  \n",
       "2                                                NaN  \n",
       "3                                                NaN  \n",
       "4  Surround, Dolby SR, Dolby Digital, Dolby A, Do...  "
      ]
     },
     "execution_count": 5,
     "metadata": {},
     "output_type": "execute_result"
    }
   ],
   "source": [
    "train2.head()"
   ]
  },
  {
   "cell_type": "markdown",
   "id": "959c7ca1",
   "metadata": {
    "papermill": {
     "duration": 0.020196,
     "end_time": "2023-08-13T15:29:26.262714",
     "exception": false,
     "start_time": "2023-08-13T15:29:26.242518",
     "status": "completed"
    },
    "tags": []
   },
   "source": [
    "# EDA"
   ]
  },
  {
   "cell_type": "code",
   "execution_count": 6,
   "id": "e2d568d3",
   "metadata": {
    "execution": {
     "iopub.execute_input": "2023-08-13T15:29:26.304993Z",
     "iopub.status.busy": "2023-08-13T15:29:26.304107Z",
     "iopub.status.idle": "2023-08-13T15:29:26.957183Z",
     "shell.execute_reply": "2023-08-13T15:29:26.956215Z"
    },
    "papermill": {
     "duration": 0.676558,
     "end_time": "2023-08-13T15:29:26.959437",
     "exception": false,
     "start_time": "2023-08-13T15:29:26.282879",
     "status": "completed"
    },
    "tags": []
   },
   "outputs": [
    {
     "name": "stdout",
     "output_type": "stream",
     "text": [
      "<class 'pandas.core.frame.DataFrame'>\n",
      "Int64Index: 162758 entries, 0 to 162757\n",
      "Data columns (total 18 columns):\n",
      " #   Column                Non-Null Count   Dtype  \n",
      "---  ------                --------------   -----  \n",
      " 0   movieid               162758 non-null  object \n",
      " 1   reviewerName          162758 non-null  object \n",
      " 2   isFrequentReviewer    162758 non-null  bool   \n",
      " 3   reviewText            156311 non-null  object \n",
      " 4   sentiment             162758 non-null  object \n",
      " 5   title                 162758 non-null  object \n",
      " 6   audienceScore         149510 non-null  float64\n",
      " 7   rating                99034 non-null   object \n",
      " 8   ratingContents        99034 non-null   object \n",
      " 9   releaseDateTheaters   126924 non-null  object \n",
      " 10  releaseDateStreaming  146573 non-null  object \n",
      " 11  runtimeMinutes        159382 non-null  float64\n",
      " 12  genre                 160320 non-null  object \n",
      " 13  originalLanguage      159468 non-null  object \n",
      " 14  director              162758 non-null  object \n",
      " 15  boxOffice             109982 non-null  object \n",
      " 16  distributor           122095 non-null  object \n",
      " 17  soundType             77391 non-null   object \n",
      "dtypes: bool(1), float64(2), object(15)\n",
      "memory usage: 22.5+ MB\n"
     ]
    }
   ],
   "source": [
    "train2.info()"
   ]
  },
  {
   "cell_type": "code",
   "execution_count": 7,
   "id": "fd1c7cbc",
   "metadata": {
    "execution": {
     "iopub.execute_input": "2023-08-13T15:29:27.002001Z",
     "iopub.status.busy": "2023-08-13T15:29:27.001700Z",
     "iopub.status.idle": "2023-08-13T15:29:27.673584Z",
     "shell.execute_reply": "2023-08-13T15:29:27.672702Z"
    },
    "papermill": {
     "duration": 0.695466,
     "end_time": "2023-08-13T15:29:27.675586",
     "exception": false,
     "start_time": "2023-08-13T15:29:26.980120",
     "status": "completed"
    },
    "tags": []
   },
   "outputs": [
    {
     "name": "stdout",
     "output_type": "stream",
     "text": [
      "movieid                     0\n",
      "reviewerName                0\n",
      "isFrequentReviewer          0\n",
      "reviewText               6447\n",
      "sentiment                   0\n",
      "title                       0\n",
      "audienceScore           13248\n",
      "rating                  63724\n",
      "ratingContents          63724\n",
      "releaseDateTheaters     35834\n",
      "releaseDateStreaming    16185\n",
      "runtimeMinutes           3376\n",
      "genre                    2438\n",
      "originalLanguage         3290\n",
      "director                    0\n",
      "boxOffice               52776\n",
      "distributor             40663\n",
      "soundType               85367\n",
      "dtype: int64\n"
     ]
    },
    {
     "data": {
      "text/html": [
       "<div>\n",
       "<style scoped>\n",
       "    .dataframe tbody tr th:only-of-type {\n",
       "        vertical-align: middle;\n",
       "    }\n",
       "\n",
       "    .dataframe tbody tr th {\n",
       "        vertical-align: top;\n",
       "    }\n",
       "\n",
       "    .dataframe thead th {\n",
       "        text-align: right;\n",
       "    }\n",
       "</style>\n",
       "<table border=\"1\" class=\"dataframe\">\n",
       "  <thead>\n",
       "    <tr style=\"text-align: right;\">\n",
       "      <th></th>\n",
       "      <th>audienceScore</th>\n",
       "      <th>runtimeMinutes</th>\n",
       "    </tr>\n",
       "  </thead>\n",
       "  <tbody>\n",
       "    <tr>\n",
       "      <th>count</th>\n",
       "      <td>149510.000000</td>\n",
       "      <td>159382.000000</td>\n",
       "    </tr>\n",
       "    <tr>\n",
       "      <th>mean</th>\n",
       "      <td>65.214541</td>\n",
       "      <td>106.911828</td>\n",
       "    </tr>\n",
       "    <tr>\n",
       "      <th>std</th>\n",
       "      <td>19.937695</td>\n",
       "      <td>22.138131</td>\n",
       "    </tr>\n",
       "    <tr>\n",
       "      <th>min</th>\n",
       "      <td>0.000000</td>\n",
       "      <td>4.000000</td>\n",
       "    </tr>\n",
       "    <tr>\n",
       "      <th>25%</th>\n",
       "      <td>51.000000</td>\n",
       "      <td>93.000000</td>\n",
       "    </tr>\n",
       "    <tr>\n",
       "      <th>50%</th>\n",
       "      <td>68.000000</td>\n",
       "      <td>104.000000</td>\n",
       "    </tr>\n",
       "    <tr>\n",
       "      <th>75%</th>\n",
       "      <td>82.000000</td>\n",
       "      <td>118.000000</td>\n",
       "    </tr>\n",
       "    <tr>\n",
       "      <th>max</th>\n",
       "      <td>100.000000</td>\n",
       "      <td>561.000000</td>\n",
       "    </tr>\n",
       "  </tbody>\n",
       "</table>\n",
       "</div>"
      ],
      "text/plain": [
       "       audienceScore  runtimeMinutes\n",
       "count  149510.000000   159382.000000\n",
       "mean       65.214541      106.911828\n",
       "std        19.937695       22.138131\n",
       "min         0.000000        4.000000\n",
       "25%        51.000000       93.000000\n",
       "50%        68.000000      104.000000\n",
       "75%        82.000000      118.000000\n",
       "max       100.000000      561.000000"
      ]
     },
     "execution_count": 7,
     "metadata": {},
     "output_type": "execute_result"
    }
   ],
   "source": [
    "print(train2.isnull().sum())\n",
    "train2.describe()"
   ]
  },
  {
   "cell_type": "code",
   "execution_count": 8,
   "id": "34e3ddcc",
   "metadata": {
    "execution": {
     "iopub.execute_input": "2023-08-13T15:29:27.719651Z",
     "iopub.status.busy": "2023-08-13T15:29:27.719308Z",
     "iopub.status.idle": "2023-08-13T15:29:27.732790Z",
     "shell.execute_reply": "2023-08-13T15:29:27.731568Z"
    },
    "papermill": {
     "duration": 0.037901,
     "end_time": "2023-08-13T15:29:27.734872",
     "exception": false,
     "start_time": "2023-08-13T15:29:27.696971",
     "status": "completed"
    },
    "tags": []
   },
   "outputs": [
    {
     "name": "stdout",
     "output_type": "stream",
     "text": [
      "68.0\n",
      "0    86.0\n",
      "Name: audienceScore, dtype: float64\n"
     ]
    }
   ],
   "source": [
    "median_value = train2[\"audienceScore\"].median()\n",
    "mode_value = train2[\"audienceScore\"].mode()\n",
    "print(median_value)\n",
    "print(mode_value)"
   ]
  },
  {
   "cell_type": "code",
   "execution_count": 9,
   "id": "ebd8e6b8",
   "metadata": {
    "execution": {
     "iopub.execute_input": "2023-08-13T15:29:27.779613Z",
     "iopub.status.busy": "2023-08-13T15:29:27.779317Z",
     "iopub.status.idle": "2023-08-13T15:29:27.791283Z",
     "shell.execute_reply": "2023-08-13T15:29:27.790301Z"
    },
    "papermill": {
     "duration": 0.037051,
     "end_time": "2023-08-13T15:29:27.793218",
     "exception": false,
     "start_time": "2023-08-13T15:29:27.756167",
     "status": "completed"
    },
    "tags": []
   },
   "outputs": [
    {
     "name": "stdout",
     "output_type": "stream",
     "text": [
      "104.0\n",
      "0    90.0\n",
      "Name: runtimeMinutes, dtype: float64\n"
     ]
    }
   ],
   "source": [
    "median_value1= train2[\"runtimeMinutes\"].median()\n",
    "mode_value1 = train2[\"runtimeMinutes\"].mode()\n",
    "print(median_value1)\n",
    "print(mode_value1)"
   ]
  },
  {
   "cell_type": "code",
   "execution_count": 10,
   "id": "3599d72c",
   "metadata": {
    "execution": {
     "iopub.execute_input": "2023-08-13T15:29:27.838179Z",
     "iopub.status.busy": "2023-08-13T15:29:27.837709Z",
     "iopub.status.idle": "2023-08-13T15:29:27.843988Z",
     "shell.execute_reply": "2023-08-13T15:29:27.843145Z"
    },
    "papermill": {
     "duration": 0.030854,
     "end_time": "2023-08-13T15:29:27.845693",
     "exception": false,
     "start_time": "2023-08-13T15:29:27.814839",
     "status": "completed"
    },
    "tags": []
   },
   "outputs": [
    {
     "data": {
      "text/plain": [
       "Index(['movieid', 'reviewerName', 'isFrequentReviewer', 'reviewText',\n",
       "       'sentiment', 'title', 'audienceScore', 'rating', 'ratingContents',\n",
       "       'releaseDateTheaters', 'releaseDateStreaming', 'runtimeMinutes',\n",
       "       'genre', 'originalLanguage', 'director', 'boxOffice', 'distributor',\n",
       "       'soundType'],\n",
       "      dtype='object')"
      ]
     },
     "execution_count": 10,
     "metadata": {},
     "output_type": "execute_result"
    }
   ],
   "source": [
    "train2.columns"
   ]
  },
  {
   "cell_type": "code",
   "execution_count": 11,
   "id": "af73b11d",
   "metadata": {
    "execution": {
     "iopub.execute_input": "2023-08-13T15:29:27.888603Z",
     "iopub.status.busy": "2023-08-13T15:29:27.888144Z",
     "iopub.status.idle": "2023-08-13T15:29:29.424059Z",
     "shell.execute_reply": "2023-08-13T15:29:29.423377Z"
    },
    "papermill": {
     "duration": 1.559616,
     "end_time": "2023-08-13T15:29:29.426065",
     "exception": false,
     "start_time": "2023-08-13T15:29:27.866449",
     "status": "completed"
    },
    "tags": []
   },
   "outputs": [
    {
     "name": "stderr",
     "output_type": "stream",
     "text": [
      "/tmp/ipykernel_21/2934053644.py:4: FutureWarning: The default value of numeric_only in DataFrame.corr is deprecated. In a future version, it will default to False. Select only valid columns or specify the value of numeric_only to silence this warning.\n",
      "  correlation_matrix = train2.corr()\n"
     ]
    },
    {
     "data": {
      "image/png": "[encoded data removed]",
      "text/plain": [
       "<Figure size 1000x800 with 2 Axes>"
      ]
     },
     "metadata": {},
     "output_type": "display_data"
    }
   ],
   "source": [
    "#correlation matrix\n",
    "import seaborn as sns\n",
    "import matplotlib.pyplot as plt\n",
    "correlation_matrix = train2.corr()\n",
    "plt.figure(figsize=(10, 8))\n",
    "sns.heatmap(correlation_matrix, annot=True, cmap='coolwarm', center=0)\n",
    "plt.title('Correlation Matrix')\n",
    "plt.show()"
   ]
  },
  {
   "cell_type": "code",
   "execution_count": 12,
   "id": "b7f8e57b",
   "metadata": {
    "execution": {
     "iopub.execute_input": "2023-08-13T15:29:29.471360Z",
     "iopub.status.busy": "2023-08-13T15:29:29.471052Z",
     "iopub.status.idle": "2023-08-13T15:29:29.823306Z",
     "shell.execute_reply": "2023-08-13T15:29:29.822164Z"
    },
    "papermill": {
     "duration": 0.377177,
     "end_time": "2023-08-13T15:29:29.825288",
     "exception": false,
     "start_time": "2023-08-13T15:29:29.448111",
     "status": "completed"
    },
    "tags": []
   },
   "outputs": [
    {
     "data": {
      "text/plain": [
       "Text(0, 0.5, 'Frequency')"
      ]
     },
     "execution_count": 12,
     "metadata": {},
     "output_type": "execute_result"
    },
    {
     "data": {
      "image/png": "[encoded data removed]",
      "text/plain": [
       "<Figure size 1200x600 with 1 Axes>"
      ]
     },
     "metadata": {},
     "output_type": "display_data"
    }
   ],
   "source": [
    "#histogram\n",
    "plt.figure(figsize=(12, 6))\n",
    "plt.subplot(1, 2, 1)\n",
    "plt.hist(train2['audienceScore'], bins=20, color='blue', edgecolor='black')\n",
    "plt.title('Histogram of audienceScore')\n",
    "plt.xlabel('audienceScore')\n",
    "plt.ylabel('Frequency')"
   ]
  },
  {
   "cell_type": "code",
   "execution_count": 13,
   "id": "8aac84ad",
   "metadata": {
    "execution": {
     "iopub.execute_input": "2023-08-13T15:29:29.871543Z",
     "iopub.status.busy": "2023-08-13T15:29:29.871238Z",
     "iopub.status.idle": "2023-08-13T15:29:30.419374Z",
     "shell.execute_reply": "2023-08-13T15:29:30.418464Z"
    },
    "papermill": {
     "duration": 0.573272,
     "end_time": "2023-08-13T15:29:30.421425",
     "exception": false,
     "start_time": "2023-08-13T15:29:29.848153",
     "status": "completed"
    },
    "tags": []
   },
   "outputs": [
    {
     "data": {
      "image/png": "[encoded data removed]",
      "text/plain": [
       "<Figure size 1000x600 with 1 Axes>"
      ]
     },
     "metadata": {},
     "output_type": "display_data"
    }
   ],
   "source": [
    "#scatter plot\n",
    "plt.figure(figsize=(10, 6))\n",
    "plt.scatter(train2['audienceScore'], train2['runtimeMinutes'], color='blue', alpha=0.7)\n",
    "plt.title('Scatter Plot')\n",
    "plt.xlabel('audienceScore')\n",
    "plt.ylabel('runtimeMinutes')\n",
    "plt.grid(True)\n",
    "plt.show()"
   ]
  },
  {
   "cell_type": "code",
   "execution_count": 14,
   "id": "8e6194a2",
   "metadata": {
    "execution": {
     "iopub.execute_input": "2023-08-13T15:29:30.469030Z",
     "iopub.status.busy": "2023-08-13T15:29:30.468752Z",
     "iopub.status.idle": "2023-08-13T15:29:30.631144Z",
     "shell.execute_reply": "2023-08-13T15:29:30.629704Z"
    },
    "papermill": {
     "duration": 0.191362,
     "end_time": "2023-08-13T15:29:30.635806",
     "exception": false,
     "start_time": "2023-08-13T15:29:30.444444",
     "status": "completed"
    },
    "tags": []
   },
   "outputs": [
    {
     "data": {
      "image/png": "[encoded data removed]",
      "text/plain": [
       "<Figure size 800x800 with 1 Axes>"
      ]
     },
     "metadata": {},
     "output_type": "display_data"
    }
   ],
   "source": [
    "grouped_data = train2['isFrequentReviewer'].value_counts()\n",
    "# Create a pie chart\n",
    "plt.figure(figsize=(8, 8))\n",
    "plt.pie(grouped_data, labels=grouped_data.index, autopct='%1.1f%%', startangle=140)\n",
    "plt.title('Pie Chart of {}'.format('isFrequentReviewer'))\n",
    "plt.axis('equal')  # Equal aspect ratio ensures the pie chart is circular.\n",
    "plt.show()"
   ]
  },
  {
   "cell_type": "code",
   "execution_count": 15,
   "id": "b84c6c9d",
   "metadata": {
    "execution": {
     "iopub.execute_input": "2023-08-13T15:29:30.695956Z",
     "iopub.status.busy": "2023-08-13T15:29:30.695255Z",
     "iopub.status.idle": "2023-08-13T15:29:31.186464Z",
     "shell.execute_reply": "2023-08-13T15:29:31.185797Z"
    },
    "papermill": {
     "duration": 0.517341,
     "end_time": "2023-08-13T15:29:31.188350",
     "exception": false,
     "start_time": "2023-08-13T15:29:30.671009",
     "status": "completed"
    },
    "tags": []
   },
   "outputs": [
    {
     "data": {
      "text/plain": [
       "<Figure size 1000x600 with 0 Axes>"
      ]
     },
     "metadata": {},
     "output_type": "display_data"
    },
    {
     "data": {
      "image/png": "[encoded data removed]",
      "text/plain": [
       "<Figure size 640x480 with 1 Axes>"
      ]
     },
     "metadata": {},
     "output_type": "display_data"
    }
   ],
   "source": [
    "# Create a box plot\n",
    "plt.figure(figsize=(10, 6))\n",
    "train2.boxplot(column='audienceScore', by='rating', grid=False)\n",
    "plt.title('Box Plot')\n",
    "plt.xlabel('rating')\n",
    "plt.ylabel('audienceScore')\n",
    "plt.xticks(rotation=45)\n",
    "plt.show()"
   ]
  },
  {
   "cell_type": "code",
   "execution_count": 16,
   "id": "1f5a0ece",
   "metadata": {
    "execution": {
     "iopub.execute_input": "2023-08-13T15:29:31.242076Z",
     "iopub.status.busy": "2023-08-13T15:29:31.241327Z",
     "iopub.status.idle": "2023-08-13T15:29:31.264810Z",
     "shell.execute_reply": "2023-08-13T15:29:31.263890Z"
    },
    "papermill": {
     "duration": 0.052458,
     "end_time": "2023-08-13T15:29:31.266748",
     "exception": false,
     "start_time": "2023-08-13T15:29:31.214290",
     "status": "completed"
    },
    "tags": []
   },
   "outputs": [
    {
     "data": {
      "text/plain": [
       "R        50331\n",
       "PG-13    36380\n",
       "PG       11734\n",
       "NC-17      201\n",
       "TVPG       200\n",
       "TV14       146\n",
       "TVMA        42\n",
       "Name: rating, dtype: int64"
      ]
     },
     "execution_count": 16,
     "metadata": {},
     "output_type": "execute_result"
    }
   ],
   "source": [
    "train2[\"rating\"].value_counts()"
   ]
  },
  {
   "cell_type": "code",
   "execution_count": 17,
   "id": "eb0aa523",
   "metadata": {
    "execution": {
     "iopub.execute_input": "2023-08-13T15:29:31.319623Z",
     "iopub.status.busy": "2023-08-13T15:29:31.319297Z",
     "iopub.status.idle": "2023-08-13T15:29:31.592438Z",
     "shell.execute_reply": "2023-08-13T15:29:31.591520Z"
    },
    "papermill": {
     "duration": 0.301646,
     "end_time": "2023-08-13T15:29:31.594362",
     "exception": false,
     "start_time": "2023-08-13T15:29:31.292716",
     "status": "completed"
    },
    "tags": []
   },
   "outputs": [
    {
     "data": {
      "image/png": "[encoded data removed]",
      "text/plain": [
       "<Figure size 1000x600 with 1 Axes>"
      ]
     },
     "metadata": {},
     "output_type": "display_data"
    }
   ],
   "source": [
    "grouped_data = train2['rating'].value_counts()\n",
    "\n",
    "# Create a bar chart\n",
    "plt.figure(figsize=(10, 6))\n",
    "grouped_data.plot(kind='bar', color='blue')\n",
    "plt.title('Bar Chart of {}'.format('rating'))\n",
    "plt.xlabel('Categories')\n",
    "plt.ylabel('Count')\n",
    "plt.xticks(rotation=45)\n",
    "plt.show()"
   ]
  },
  {
   "cell_type": "code",
   "execution_count": 18,
   "id": "394537e5",
   "metadata": {
    "execution": {
     "iopub.execute_input": "2023-08-13T15:29:31.645659Z",
     "iopub.status.busy": "2023-08-13T15:29:31.644650Z",
     "iopub.status.idle": "2023-08-13T15:29:32.652579Z",
     "shell.execute_reply": "2023-08-13T15:29:32.651654Z"
    },
    "papermill": {
     "duration": 1.035395,
     "end_time": "2023-08-13T15:29:32.654636",
     "exception": false,
     "start_time": "2023-08-13T15:29:31.619241",
     "status": "completed"
    },
    "tags": []
   },
   "outputs": [
    {
     "name": "stderr",
     "output_type": "stream",
     "text": [
      "/tmp/ipykernel_21/3103744179.py:3: UserWarning: \n",
      "\n",
      "`distplot` is a deprecated function and will be removed in seaborn v0.14.0.\n",
      "\n",
      "Please adapt your code to use either `displot` (a figure-level function with\n",
      "similar flexibility) or `histplot` (an axes-level function for histograms).\n",
      "\n",
      "For a guide to updating your code to use the new functions, please see\n",
      "https://gist.github.com/mwaskom/de44147ed2974457ad6372750bbe5751\n",
      "\n",
      "  sns.distplot(train2['audienceScore'], color='g', bins=100, hist_kws={'alpha': 0.4});\n"
     ]
    },
    {
     "data": {
      "image/png": "[encoded data removed]",
      "text/plain": [
       "<Figure size 900x800 with 1 Axes>"
      ]
     },
     "metadata": {},
     "output_type": "display_data"
    }
   ],
   "source": [
    "#displot how audience score distributed\n",
    "plt.figure(figsize=(9, 8))\n",
    "sns.distplot(train2['audienceScore'], color='g', bins=100, hist_kws={'alpha': 0.4});"
   ]
  },
  {
   "cell_type": "code",
   "execution_count": 19,
   "id": "dca4dc2b",
   "metadata": {
    "execution": {
     "iopub.execute_input": "2023-08-13T15:29:32.707270Z",
     "iopub.status.busy": "2023-08-13T15:29:32.706758Z",
     "iopub.status.idle": "2023-08-13T15:29:38.632304Z",
     "shell.execute_reply": "2023-08-13T15:29:38.631407Z"
    },
    "papermill": {
     "duration": 5.954975,
     "end_time": "2023-08-13T15:29:38.635225",
     "exception": false,
     "start_time": "2023-08-13T15:29:32.680250",
     "status": "completed"
    },
    "tags": []
   },
   "outputs": [
    {
     "name": "stderr",
     "output_type": "stream",
     "text": [
      "<__array_function__ internals>:180: RuntimeWarning: Converting input from bool to <class 'numpy.uint8'> for compatibility.\n"
     ]
    },
    {
     "data": {
      "image/png": "[encoded data removed]",
      "text/plain": [
       "<Figure size 750x750 with 12 Axes>"
      ]
     },
     "metadata": {},
     "output_type": "display_data"
    }
   ],
   "source": [
    "sns.pairplot(train2)\n",
    "plt.show()"
   ]
  },
  {
   "cell_type": "code",
   "execution_count": 20,
   "id": "19ee2a42",
   "metadata": {
    "execution": {
     "iopub.execute_input": "2023-08-13T15:29:38.691348Z",
     "iopub.status.busy": "2023-08-13T15:29:38.691046Z",
     "iopub.status.idle": "2023-08-13T15:29:38.711031Z",
     "shell.execute_reply": "2023-08-13T15:29:38.710192Z"
    },
    "papermill": {
     "duration": 0.049771,
     "end_time": "2023-08-13T15:29:38.712749",
     "exception": false,
     "start_time": "2023-08-13T15:29:38.662978",
     "status": "completed"
    },
    "tags": []
   },
   "outputs": [
    {
     "data": {
      "text/plain": [
       "1163"
      ]
     },
     "execution_count": 20,
     "metadata": {},
     "output_type": "execute_result"
    }
   ],
   "source": [
    "train2[\"genre\"].unique().size"
   ]
  },
  {
   "cell_type": "code",
   "execution_count": 21,
   "id": "783fd327",
   "metadata": {
    "execution": {
     "iopub.execute_input": "2023-08-13T15:29:38.767708Z",
     "iopub.status.busy": "2023-08-13T15:29:38.767123Z",
     "iopub.status.idle": "2023-08-13T15:29:38.796210Z",
     "shell.execute_reply": "2023-08-13T15:29:38.795520Z"
    },
    "papermill": {
     "duration": 0.058483,
     "end_time": "2023-08-13T15:29:38.797929",
     "exception": false,
     "start_time": "2023-08-13T15:29:38.739446",
     "status": "completed"
    },
    "tags": []
   },
   "outputs": [
    {
     "data": {
      "text/plain": [
       "Drama                                               24159\n",
       "Comedy                                              11252\n",
       "Documentary                                          9805\n",
       "Comedy, Drama                                        9775\n",
       "Mystery & thriller                                   5012\n",
       "                                                    ...  \n",
       "Fantasy, Lgbtq+, Musical                                1\n",
       "Action, Comedy, Animation                               1\n",
       "Western, Adventure, Romance                             1\n",
       "Action, Comedy, Foreign                                 1\n",
       "Action, Crime, Drama, Horror, Mystery & thriller        1\n",
       "Name: genre, Length: 1162, dtype: int64"
      ]
     },
     "execution_count": 21,
     "metadata": {},
     "output_type": "execute_result"
    }
   ],
   "source": [
    "train2[\"genre\"].value_counts()"
   ]
  },
  {
   "cell_type": "code",
   "execution_count": 22,
   "id": "35cb5acb",
   "metadata": {
    "execution": {
     "iopub.execute_input": "2023-08-13T15:29:38.853194Z",
     "iopub.status.busy": "2023-08-13T15:29:38.852753Z",
     "iopub.status.idle": "2023-08-13T15:29:38.860405Z",
     "shell.execute_reply": "2023-08-13T15:29:38.859563Z"
    },
    "papermill": {
     "duration": 0.037353,
     "end_time": "2023-08-13T15:29:38.862380",
     "exception": false,
     "start_time": "2023-08-13T15:29:38.825027",
     "status": "completed"
    },
    "tags": []
   },
   "outputs": [
    {
     "data": {
      "text/plain": [
       "False    113189\n",
       "True      49569\n",
       "Name: isFrequentReviewer, dtype: int64"
      ]
     },
     "execution_count": 22,
     "metadata": {},
     "output_type": "execute_result"
    }
   ],
   "source": [
    "train2[\"isFrequentReviewer\"].value_counts()"
   ]
  },
  {
   "cell_type": "code",
   "execution_count": 23,
   "id": "cbd7ad51",
   "metadata": {
    "execution": {
     "iopub.execute_input": "2023-08-13T15:29:38.917714Z",
     "iopub.status.busy": "2023-08-13T15:29:38.917241Z",
     "iopub.status.idle": "2023-08-13T15:29:38.935168Z",
     "shell.execute_reply": "2023-08-13T15:29:38.934305Z"
    },
    "papermill": {
     "duration": 0.047549,
     "end_time": "2023-08-13T15:29:38.936944",
     "exception": false,
     "start_time": "2023-08-13T15:29:38.889395",
     "status": "completed"
    },
    "tags": []
   },
   "outputs": [
    {
     "data": {
      "text/plain": [
       "92"
      ]
     },
     "execution_count": 23,
     "metadata": {},
     "output_type": "execute_result"
    }
   ],
   "source": [
    "train2[\"originalLanguage\"].unique().size"
   ]
  },
  {
   "cell_type": "code",
   "execution_count": 24,
   "id": "74372687",
   "metadata": {
    "execution": {
     "iopub.execute_input": "2023-08-13T15:29:38.993727Z",
     "iopub.status.busy": "2023-08-13T15:29:38.993423Z",
     "iopub.status.idle": "2023-08-13T15:29:39.020273Z",
     "shell.execute_reply": "2023-08-13T15:29:39.019450Z"
    },
    "papermill": {
     "duration": 0.057845,
     "end_time": "2023-08-13T15:29:39.022401",
     "exception": false,
     "start_time": "2023-08-13T15:29:38.964556",
     "status": "completed"
    },
    "tags": []
   },
   "outputs": [
    {
     "data": {
      "text/plain": [
       "16812"
      ]
     },
     "execution_count": 24,
     "metadata": {},
     "output_type": "execute_result"
    }
   ],
   "source": [
    "train2[\"movieid\"].unique().size"
   ]
  },
  {
   "cell_type": "code",
   "execution_count": 25,
   "id": "59e8240f",
   "metadata": {
    "execution": {
     "iopub.execute_input": "2023-08-13T15:29:39.078171Z",
     "iopub.status.busy": "2023-08-13T15:29:39.077903Z",
     "iopub.status.idle": "2023-08-13T15:29:39.103470Z",
     "shell.execute_reply": "2023-08-13T15:29:39.102669Z"
    },
    "papermill": {
     "duration": 0.055432,
     "end_time": "2023-08-13T15:29:39.105246",
     "exception": false,
     "start_time": "2023-08-13T15:29:39.049814",
     "status": "completed"
    },
    "tags": []
   },
   "outputs": [
    {
     "data": {
      "text/plain": [
       "POSITIVE    108761\n",
       "NEGATIVE     53997\n",
       "Name: sentiment, dtype: int64"
      ]
     },
     "execution_count": 25,
     "metadata": {},
     "output_type": "execute_result"
    }
   ],
   "source": [
    "train2[\"sentiment\"].value_counts()"
   ]
  },
  {
   "cell_type": "markdown",
   "id": "6533eed3",
   "metadata": {
    "papermill": {
     "duration": 0.028332,
     "end_time": "2023-08-13T15:29:39.160956",
     "exception": false,
     "start_time": "2023-08-13T15:29:39.132624",
     "status": "completed"
    },
    "tags": []
   },
   "source": [
    "# INSIGHTS FROM DATA\n",
    "Dataset have only 2 numerical variables that are audienceScore and runtimeMinutes it have rating an column which is categorical in nature. There are 16812 movies in 92 different language having different releasing dates, different directors, different box office and other parameters. All these movies are from among the total 1163 type of genres present in the dataset. We have 49569 true FrequentReviewer and 113189 false FrequentReviewer. In last we have Sentiment as a column on which we have to make the prediction which consist 108761 positive and 53997 negative sentiment."
   ]
  },
  {
   "cell_type": "code",
   "execution_count": 26,
   "id": "98ba4e92",
   "metadata": {
    "execution": {
     "iopub.execute_input": "2023-08-13T15:29:39.217597Z",
     "iopub.status.busy": "2023-08-13T15:29:39.216902Z",
     "iopub.status.idle": "2023-08-13T15:29:39.238496Z",
     "shell.execute_reply": "2023-08-13T15:29:39.237694Z"
    },
    "papermill": {
     "duration": 0.051657,
     "end_time": "2023-08-13T15:29:39.240364",
     "exception": false,
     "start_time": "2023-08-13T15:29:39.188707",
     "status": "completed"
    },
    "tags": []
   },
   "outputs": [
    {
     "data": {
      "text/html": [
       "<div>\n",
       "<style scoped>\n",
       "    .dataframe tbody tr th:only-of-type {\n",
       "        vertical-align: middle;\n",
       "    }\n",
       "\n",
       "    .dataframe tbody tr th {\n",
       "        vertical-align: top;\n",
       "    }\n",
       "\n",
       "    .dataframe thead th {\n",
       "        text-align: right;\n",
       "    }\n",
       "</style>\n",
       "<table border=\"1\" class=\"dataframe\">\n",
       "  <thead>\n",
       "    <tr style=\"text-align: right;\">\n",
       "      <th></th>\n",
       "      <th>movieid</th>\n",
       "      <th>reviewText</th>\n",
       "      <th>audienceScore</th>\n",
       "      <th>rating</th>\n",
       "      <th>isFrequentReviewer</th>\n",
       "      <th>runtimeMinutes</th>\n",
       "      <th>sentiment</th>\n",
       "    </tr>\n",
       "  </thead>\n",
       "  <tbody>\n",
       "    <tr>\n",
       "      <th>0</th>\n",
       "      <td>marvelous_pirate</td>\n",
       "      <td>Henry Selick’s first movie since 2009’s Corali...</td>\n",
       "      <td>65.0</td>\n",
       "      <td>PG-13</td>\n",
       "      <td>False</td>\n",
       "      <td>105.0</td>\n",
       "      <td>POSITIVE</td>\n",
       "    </tr>\n",
       "    <tr>\n",
       "      <th>1</th>\n",
       "      <td>tony_montana_frodo_baggins_v_rocky_balboa</td>\n",
       "      <td>With a cast that reads like the Vogue Oscar pa...</td>\n",
       "      <td>NaN</td>\n",
       "      <td>NaN</td>\n",
       "      <td>False</td>\n",
       "      <td>91.0</td>\n",
       "      <td>NEGATIVE</td>\n",
       "    </tr>\n",
       "    <tr>\n",
       "      <th>2</th>\n",
       "      <td>darth_vader_katniss_everdeen_sorcerer_donnie_d...</td>\n",
       "      <td>Creed II does not give us anything but another...</td>\n",
       "      <td>80.0</td>\n",
       "      <td>PG-13</td>\n",
       "      <td>True</td>\n",
       "      <td>130.0</td>\n",
       "      <td>POSITIVE</td>\n",
       "    </tr>\n",
       "    <tr>\n",
       "      <th>3</th>\n",
       "      <td>lara_croft_glimmer</td>\n",
       "      <td>I know what you're thinking, but this is no Li...</td>\n",
       "      <td>NaN</td>\n",
       "      <td>NaN</td>\n",
       "      <td>False</td>\n",
       "      <td>15.0</td>\n",
       "      <td>POSITIVE</td>\n",
       "    </tr>\n",
       "    <tr>\n",
       "      <th>4</th>\n",
       "      <td>jason_bourne_surreal_the_terminator_indiana_jones</td>\n",
       "      <td>Director Fernando Meirelles tells the story wi...</td>\n",
       "      <td>97.0</td>\n",
       "      <td>R</td>\n",
       "      <td>False</td>\n",
       "      <td>131.0</td>\n",
       "      <td>POSITIVE</td>\n",
       "    </tr>\n",
       "  </tbody>\n",
       "</table>\n",
       "</div>"
      ],
      "text/plain": [
       "                                             movieid  \\\n",
       "0                                   marvelous_pirate   \n",
       "1          tony_montana_frodo_baggins_v_rocky_balboa   \n",
       "2  darth_vader_katniss_everdeen_sorcerer_donnie_d...   \n",
       "3                                 lara_croft_glimmer   \n",
       "4  jason_bourne_surreal_the_terminator_indiana_jones   \n",
       "\n",
       "                                          reviewText  audienceScore rating  \\\n",
       "0  Henry Selick’s first movie since 2009’s Corali...           65.0  PG-13   \n",
       "1  With a cast that reads like the Vogue Oscar pa...            NaN    NaN   \n",
       "2  Creed II does not give us anything but another...           80.0  PG-13   \n",
       "3  I know what you're thinking, but this is no Li...            NaN    NaN   \n",
       "4  Director Fernando Meirelles tells the story wi...           97.0      R   \n",
       "\n",
       "   isFrequentReviewer  runtimeMinutes sentiment  \n",
       "0               False           105.0  POSITIVE  \n",
       "1               False            91.0  NEGATIVE  \n",
       "2                True           130.0  POSITIVE  \n",
       "3               False            15.0  POSITIVE  \n",
       "4               False           131.0  POSITIVE  "
      ]
     },
     "execution_count": 26,
     "metadata": {},
     "output_type": "execute_result"
    }
   ],
   "source": [
    "dataset=train2[['movieid','reviewText','audienceScore','rating','isFrequentReviewer','runtimeMinutes','sentiment']]\n",
    "dataset.head()"
   ]
  },
  {
   "cell_type": "markdown",
   "id": "85385e73",
   "metadata": {
    "papermill": {
     "duration": 0.027972,
     "end_time": "2023-08-13T15:29:39.296663",
     "exception": false,
     "start_time": "2023-08-13T15:29:39.268691",
     "status": "completed"
    },
    "tags": []
   },
   "source": [
    "# ****CHECKING AND REPLACING NULL VALUES****"
   ]
  },
  {
   "cell_type": "code",
   "execution_count": 27,
   "id": "244c54e4",
   "metadata": {
    "execution": {
     "iopub.execute_input": "2023-08-13T15:29:39.353766Z",
     "iopub.status.busy": "2023-08-13T15:29:39.353465Z",
     "iopub.status.idle": "2023-08-13T15:29:39.548904Z",
     "shell.execute_reply": "2023-08-13T15:29:39.547989Z"
    },
    "papermill": {
     "duration": 0.226316,
     "end_time": "2023-08-13T15:29:39.551216",
     "exception": false,
     "start_time": "2023-08-13T15:29:39.324900",
     "status": "completed"
    },
    "tags": []
   },
   "outputs": [
    {
     "data": {
      "text/plain": [
       "movieid                   0\n",
       "reviewText             6447\n",
       "audienceScore         13248\n",
       "rating                63724\n",
       "isFrequentReviewer        0\n",
       "runtimeMinutes         3376\n",
       "sentiment                 0\n",
       "dtype: int64"
      ]
     },
     "execution_count": 27,
     "metadata": {},
     "output_type": "execute_result"
    }
   ],
   "source": [
    "dataset.isnull().sum()"
   ]
  },
  {
   "cell_type": "code",
   "execution_count": 28,
   "id": "8cd056a3",
   "metadata": {
    "execution": {
     "iopub.execute_input": "2023-08-13T15:29:39.609986Z",
     "iopub.status.busy": "2023-08-13T15:29:39.609712Z",
     "iopub.status.idle": "2023-08-13T15:29:39.639001Z",
     "shell.execute_reply": "2023-08-13T15:29:39.637744Z"
    },
    "papermill": {
     "duration": 0.060607,
     "end_time": "2023-08-13T15:29:39.641008",
     "exception": false,
     "start_time": "2023-08-13T15:29:39.580401",
     "status": "completed"
    },
    "tags": []
   },
   "outputs": [
    {
     "name": "stderr",
     "output_type": "stream",
     "text": [
      "/tmp/ipykernel_21/1265379247.py:1: SettingWithCopyWarning: \n",
      "A value is trying to be set on a copy of a slice from a DataFrame\n",
      "\n",
      "See the caveats in the documentation: https://pandas.pydata.org/pandas-docs/stable/user_guide/indexing.html#returning-a-view-versus-a-copy\n",
      "  dataset[\"audienceScore\"].fillna(dataset[\"audienceScore\"].mean(),inplace=True)\n",
      "/tmp/ipykernel_21/1265379247.py:2: SettingWithCopyWarning: \n",
      "A value is trying to be set on a copy of a slice from a DataFrame\n",
      "\n",
      "See the caveats in the documentation: https://pandas.pydata.org/pandas-docs/stable/user_guide/indexing.html#returning-a-view-versus-a-copy\n",
      "  dataset[\"runtimeMinutes\"].fillna(dataset[\"runtimeMinutes\"].mean(),inplace=True)\n",
      "/tmp/ipykernel_21/1265379247.py:3: SettingWithCopyWarning: \n",
      "A value is trying to be set on a copy of a slice from a DataFrame\n",
      "\n",
      "See the caveats in the documentation: https://pandas.pydata.org/pandas-docs/stable/user_guide/indexing.html#returning-a-view-versus-a-copy\n",
      "  dataset[\"reviewText\"].fillna(\"\",inplace=True)\n"
     ]
    }
   ],
   "source": [
    "dataset[\"audienceScore\"].fillna(dataset[\"audienceScore\"].mean(),inplace=True)\n",
    "dataset[\"runtimeMinutes\"].fillna(dataset[\"runtimeMinutes\"].mean(),inplace=True)\n",
    "dataset[\"reviewText\"].fillna(\"\",inplace=True)"
   ]
  },
  {
   "cell_type": "code",
   "execution_count": 29,
   "id": "de264430",
   "metadata": {
    "execution": {
     "iopub.execute_input": "2023-08-13T15:29:39.703822Z",
     "iopub.status.busy": "2023-08-13T15:29:39.703009Z",
     "iopub.status.idle": "2023-08-13T15:29:39.720124Z",
     "shell.execute_reply": "2023-08-13T15:29:39.719524Z"
    },
    "papermill": {
     "duration": 0.049101,
     "end_time": "2023-08-13T15:29:39.721998",
     "exception": false,
     "start_time": "2023-08-13T15:29:39.672897",
     "status": "completed"
    },
    "tags": []
   },
   "outputs": [
    {
     "data": {
      "text/plain": [
       "array(['PG-13', nan, 'R', 'PG', 'NC-17', 'TV14', 'TVPG', 'TVMA'],\n",
       "      dtype=object)"
      ]
     },
     "execution_count": 29,
     "metadata": {},
     "output_type": "execute_result"
    }
   ],
   "source": [
    "dataset[\"rating\"].unique()"
   ]
  },
  {
   "cell_type": "code",
   "execution_count": 30,
   "id": "8708f44c",
   "metadata": {
    "execution": {
     "iopub.execute_input": "2023-08-13T15:29:39.793759Z",
     "iopub.status.busy": "2023-08-13T15:29:39.793247Z",
     "iopub.status.idle": "2023-08-13T15:29:39.837116Z",
     "shell.execute_reply": "2023-08-13T15:29:39.836174Z"
    },
    "papermill": {
     "duration": 0.085532,
     "end_time": "2023-08-13T15:29:39.839107",
     "exception": false,
     "start_time": "2023-08-13T15:29:39.753575",
     "status": "completed"
    },
    "tags": []
   },
   "outputs": [
    {
     "name": "stderr",
     "output_type": "stream",
     "text": [
      "/tmp/ipykernel_21/2724274384.py:1: SettingWithCopyWarning: \n",
      "A value is trying to be set on a copy of a slice from a DataFrame\n",
      "\n",
      "See the caveats in the documentation: https://pandas.pydata.org/pandas-docs/stable/user_guide/indexing.html#returning-a-view-versus-a-copy\n",
      "  dataset[\"rating\"].fillna(dataset[\"rating\"].mode()[0],inplace=True)\n"
     ]
    }
   ],
   "source": [
    "dataset[\"rating\"].fillna(dataset[\"rating\"].mode()[0],inplace=True)"
   ]
  },
  {
   "cell_type": "code",
   "execution_count": 31,
   "id": "4e7a2a5c",
   "metadata": {
    "execution": {
     "iopub.execute_input": "2023-08-13T15:29:39.897547Z",
     "iopub.status.busy": "2023-08-13T15:29:39.897234Z",
     "iopub.status.idle": "2023-08-13T15:29:40.087428Z",
     "shell.execute_reply": "2023-08-13T15:29:40.086564Z"
    },
    "papermill": {
     "duration": 0.221486,
     "end_time": "2023-08-13T15:29:40.089491",
     "exception": false,
     "start_time": "2023-08-13T15:29:39.868005",
     "status": "completed"
    },
    "tags": []
   },
   "outputs": [
    {
     "data": {
      "text/plain": [
       "movieid               0\n",
       "reviewText            0\n",
       "audienceScore         0\n",
       "rating                0\n",
       "isFrequentReviewer    0\n",
       "runtimeMinutes        0\n",
       "sentiment             0\n",
       "dtype: int64"
      ]
     },
     "execution_count": 31,
     "metadata": {},
     "output_type": "execute_result"
    }
   ],
   "source": [
    "dataset.isnull().sum()"
   ]
  },
  {
   "cell_type": "code",
   "execution_count": 32,
   "id": "e6a3299d",
   "metadata": {
    "execution": {
     "iopub.execute_input": "2023-08-13T15:29:40.149350Z",
     "iopub.status.busy": "2023-08-13T15:29:40.148458Z",
     "iopub.status.idle": "2023-08-13T15:29:40.161637Z",
     "shell.execute_reply": "2023-08-13T15:29:40.160844Z"
    },
    "papermill": {
     "duration": 0.045206,
     "end_time": "2023-08-13T15:29:40.163476",
     "exception": false,
     "start_time": "2023-08-13T15:29:40.118270",
     "status": "completed"
    },
    "tags": []
   },
   "outputs": [],
   "source": [
    "y=dataset[\"sentiment\"]\n",
    "X=dataset.drop(columns=\"sentiment\",axis=1)"
   ]
  },
  {
   "cell_type": "markdown",
   "id": "597bcd36",
   "metadata": {
    "papermill": {
     "duration": 0.028237,
     "end_time": "2023-08-13T15:29:40.219766",
     "exception": false,
     "start_time": "2023-08-13T15:29:40.191529",
     "status": "completed"
    },
    "tags": []
   },
   "source": [
    "# PIPELINE/COLUMN TRANSFORMER"
   ]
  },
  {
   "cell_type": "code",
   "execution_count": 33,
   "id": "0af95d9d",
   "metadata": {
    "execution": {
     "iopub.execute_input": "2023-08-13T15:29:40.279615Z",
     "iopub.status.busy": "2023-08-13T15:29:40.279049Z",
     "iopub.status.idle": "2023-08-13T15:29:46.364056Z",
     "shell.execute_reply": "2023-08-13T15:29:46.362978Z"
    },
    "papermill": {
     "duration": 6.117823,
     "end_time": "2023-08-13T15:29:46.366789",
     "exception": false,
     "start_time": "2023-08-13T15:29:40.248966",
     "status": "completed"
    },
    "tags": []
   },
   "outputs": [],
   "source": [
    "from sklearn.preprocessing import OneHotEncoder\n",
    "from sklearn.preprocessing import OrdinalEncoder\n",
    "from sklearn.preprocessing import MinMaxScaler\n",
    "from sklearn.feature_extraction.text import TfidfVectorizer# For Feature Engineering\n",
    "from sklearn.feature_extraction.text import CountVectorizer\n",
    "from sklearn.pipeline import make_pipeline\n",
    "from sklearn.pipeline import Pipeline\n",
    "from sklearn.compose import ColumnTransformer\n",
    "pipe=ColumnTransformer([(\"one_hot_encoder\",OneHotEncoder(),[\"rating\"]),\n",
    "                        (\"tfidf_vectorizer\",TfidfVectorizer(),\"reviewText\"),\n",
    "                        (\"count\",CountVectorizer(),\"movieid\"),\n",
    "                        (\"order\",OrdinalEncoder(),[\"isFrequentReviewer\"]),\n",
    "                        (\"min_max_scaler\",MinMaxScaler(),[\"runtimeMinutes\",\"audienceScore\"])])\n",
    "X_trans=pipe.fit_transform(X)"
   ]
  },
  {
   "cell_type": "markdown",
   "id": "761c2c5f",
   "metadata": {
    "papermill": {
     "duration": 0.029312,
     "end_time": "2023-08-13T15:29:46.425299",
     "exception": false,
     "start_time": "2023-08-13T15:29:46.395987",
     "status": "completed"
    },
    "tags": []
   },
   "source": [
    "**FEATURE ENGINEERING**\n",
    "\n",
    "In review text column we apply Tfidf vectorizer to convert the text data into the numbers to apply the model and make the prediction on the sentiment weather it is positive or negative"
   ]
  },
  {
   "cell_type": "code",
   "execution_count": 34,
   "id": "28942a7b",
   "metadata": {
    "execution": {
     "iopub.execute_input": "2023-08-13T15:29:46.483668Z",
     "iopub.status.busy": "2023-08-13T15:29:46.483282Z",
     "iopub.status.idle": "2023-08-13T15:29:46.488184Z",
     "shell.execute_reply": "2023-08-13T15:29:46.487551Z"
    },
    "papermill": {
     "duration": 0.036494,
     "end_time": "2023-08-13T15:29:46.489893",
     "exception": false,
     "start_time": "2023-08-13T15:29:46.453399",
     "status": "completed"
    },
    "tags": []
   },
   "outputs": [
    {
     "data": {
      "text/plain": [
       "(162758, 82380)"
      ]
     },
     "execution_count": 34,
     "metadata": {},
     "output_type": "execute_result"
    }
   ],
   "source": [
    "X_trans.shape"
   ]
  },
  {
   "cell_type": "markdown",
   "id": "fad241f7",
   "metadata": {
    "papermill": {
     "duration": 0.029177,
     "end_time": "2023-08-13T15:29:46.548786",
     "exception": false,
     "start_time": "2023-08-13T15:29:46.519609",
     "status": "completed"
    },
    "tags": []
   },
   "source": [
    "**LOGISTIC REGRESION**"
   ]
  },
  {
   "cell_type": "code",
   "execution_count": 35,
   "id": "341412c7",
   "metadata": {
    "execution": {
     "iopub.execute_input": "2023-08-13T15:29:46.611266Z",
     "iopub.status.busy": "2023-08-13T15:29:46.610412Z",
     "iopub.status.idle": "2023-08-13T15:29:46.774411Z",
     "shell.execute_reply": "2023-08-13T15:29:46.773721Z"
    },
    "papermill": {
     "duration": 0.19796,
     "end_time": "2023-08-13T15:29:46.776757",
     "exception": false,
     "start_time": "2023-08-13T15:29:46.578797",
     "status": "completed"
    },
    "tags": []
   },
   "outputs": [],
   "source": [
    "from sklearn.linear_model import LogisticRegression\n",
    "from sklearn.model_selection import GridSearchCV\n",
    "log_reg=LogisticRegression()"
   ]
  },
  {
   "cell_type": "code",
   "execution_count": 36,
   "id": "a39ef8a4",
   "metadata": {
    "execution": {
     "iopub.execute_input": "2023-08-13T15:29:46.838251Z",
     "iopub.status.busy": "2023-08-13T15:29:46.837690Z",
     "iopub.status.idle": "2023-08-13T15:29:46.841960Z",
     "shell.execute_reply": "2023-08-13T15:29:46.841048Z"
    },
    "papermill": {
     "duration": 0.035877,
     "end_time": "2023-08-13T15:29:46.843788",
     "exception": false,
     "start_time": "2023-08-13T15:29:46.807911",
     "status": "completed"
    },
    "tags": []
   },
   "outputs": [],
   "source": [
    "param_grid={\"C\":[0.01,0.1,1,10],\n",
    "           \"solver\":[\"liblinear\",\"saga\",\"sag\"]}"
   ]
  },
  {
   "cell_type": "code",
   "execution_count": 37,
   "id": "87ee395f",
   "metadata": {
    "execution": {
     "iopub.execute_input": "2023-08-13T15:29:46.902647Z",
     "iopub.status.busy": "2023-08-13T15:29:46.902344Z",
     "iopub.status.idle": "2023-08-13T15:29:46.906652Z",
     "shell.execute_reply": "2023-08-13T15:29:46.905810Z"
    },
    "papermill": {
     "duration": 0.035846,
     "end_time": "2023-08-13T15:29:46.908385",
     "exception": false,
     "start_time": "2023-08-13T15:29:46.872539",
     "status": "completed"
    },
    "tags": []
   },
   "outputs": [],
   "source": [
    "grid_search=GridSearchCV(log_reg,param_grid,cv=3,verbose=True,n_jobs=-1)"
   ]
  },
  {
   "cell_type": "code",
   "execution_count": 38,
   "id": "4f0c2b87",
   "metadata": {
    "execution": {
     "iopub.execute_input": "2023-08-13T15:29:46.966871Z",
     "iopub.status.busy": "2023-08-13T15:29:46.966612Z",
     "iopub.status.idle": "2023-08-13T15:31:21.997336Z",
     "shell.execute_reply": "2023-08-13T15:31:21.995630Z"
    },
    "papermill": {
     "duration": 95.065029,
     "end_time": "2023-08-13T15:31:22.001797",
     "exception": false,
     "start_time": "2023-08-13T15:29:46.936768",
     "status": "completed"
    },
    "tags": []
   },
   "outputs": [
    {
     "name": "stdout",
     "output_type": "stream",
     "text": [
      "Fitting 3 folds for each of 12 candidates, totalling 36 fits\n"
     ]
    },
    {
     "name": "stderr",
     "output_type": "stream",
     "text": [
      "/opt/conda/lib/python3.10/site-packages/sklearn/linear_model/_sag.py:350: ConvergenceWarning: The max_iter was reached which means the coef_ did not converge\n",
      "  warnings.warn(\n",
      "/opt/conda/lib/python3.10/site-packages/sklearn/linear_model/_sag.py:350: ConvergenceWarning: The max_iter was reached which means the coef_ did not converge\n",
      "  warnings.warn(\n",
      "/opt/conda/lib/python3.10/site-packages/sklearn/linear_model/_sag.py:350: ConvergenceWarning: The max_iter was reached which means the coef_ did not converge\n",
      "  warnings.warn(\n",
      "/opt/conda/lib/python3.10/site-packages/sklearn/linear_model/_sag.py:350: ConvergenceWarning: The max_iter was reached which means the coef_ did not converge\n",
      "  warnings.warn(\n",
      "/opt/conda/lib/python3.10/site-packages/sklearn/linear_model/_sag.py:350: ConvergenceWarning: The max_iter was reached which means the coef_ did not converge\n",
      "  warnings.warn(\n",
      "/opt/conda/lib/python3.10/site-packages/sklearn/linear_model/_sag.py:350: ConvergenceWarning: The max_iter was reached which means the coef_ did not converge\n",
      "  warnings.warn(\n",
      "/opt/conda/lib/python3.10/site-packages/sklearn/linear_model/_sag.py:350: ConvergenceWarning: The max_iter was reached which means the coef_ did not converge\n",
      "  warnings.warn(\n",
      "/opt/conda/lib/python3.10/site-packages/sklearn/linear_model/_sag.py:350: ConvergenceWarning: The max_iter was reached which means the coef_ did not converge\n",
      "  warnings.warn(\n",
      "/opt/conda/lib/python3.10/site-packages/sklearn/linear_model/_sag.py:350: ConvergenceWarning: The max_iter was reached which means the coef_ did not converge\n",
      "  warnings.warn(\n",
      "/opt/conda/lib/python3.10/site-packages/sklearn/linear_model/_sag.py:350: ConvergenceWarning: The max_iter was reached which means the coef_ did not converge\n",
      "  warnings.warn(\n",
      "/opt/conda/lib/python3.10/site-packages/sklearn/linear_model/_sag.py:350: ConvergenceWarning: The max_iter was reached which means the coef_ did not converge\n",
      "  warnings.warn(\n",
      "/opt/conda/lib/python3.10/site-packages/sklearn/linear_model/_sag.py:350: ConvergenceWarning: The max_iter was reached which means the coef_ did not converge\n",
      "  warnings.warn(\n",
      "/opt/conda/lib/python3.10/site-packages/sklearn/linear_model/_sag.py:350: ConvergenceWarning: The max_iter was reached which means the coef_ did not converge\n",
      "  warnings.warn(\n",
      "/opt/conda/lib/python3.10/site-packages/sklearn/linear_model/_sag.py:350: ConvergenceWarning: The max_iter was reached which means the coef_ did not converge\n",
      "  warnings.warn(\n",
      "/opt/conda/lib/python3.10/site-packages/sklearn/linear_model/_sag.py:350: ConvergenceWarning: The max_iter was reached which means the coef_ did not converge\n",
      "  warnings.warn(\n"
     ]
    }
   ],
   "source": [
    "best_grid_search=grid_search.fit(X_trans,y)"
   ]
  },
  {
   "cell_type": "code",
   "execution_count": 39,
   "id": "b055c508",
   "metadata": {
    "execution": {
     "iopub.execute_input": "2023-08-13T15:31:22.076915Z",
     "iopub.status.busy": "2023-08-13T15:31:22.076600Z",
     "iopub.status.idle": "2023-08-13T15:31:22.083489Z",
     "shell.execute_reply": "2023-08-13T15:31:22.082444Z"
    },
    "papermill": {
     "duration": 0.040345,
     "end_time": "2023-08-13T15:31:22.086674",
     "exception": false,
     "start_time": "2023-08-13T15:31:22.046329",
     "status": "completed"
    },
    "tags": []
   },
   "outputs": [
    {
     "data": {
      "text/plain": [
       "{'C': 1, 'solver': 'liblinear'}"
      ]
     },
     "execution_count": 39,
     "metadata": {},
     "output_type": "execute_result"
    }
   ],
   "source": [
    "best_grid_search.best_params_"
   ]
  },
  {
   "cell_type": "code",
   "execution_count": 40,
   "id": "d88413e3",
   "metadata": {
    "execution": {
     "iopub.execute_input": "2023-08-13T15:31:22.146213Z",
     "iopub.status.busy": "2023-08-13T15:31:22.145965Z",
     "iopub.status.idle": "2023-08-13T15:31:22.149785Z",
     "shell.execute_reply": "2023-08-13T15:31:22.148899Z"
    },
    "papermill": {
     "duration": 0.035955,
     "end_time": "2023-08-13T15:31:22.151672",
     "exception": false,
     "start_time": "2023-08-13T15:31:22.115717",
     "status": "completed"
    },
    "tags": []
   },
   "outputs": [],
   "source": [
    "log_reg=LogisticRegression(C=1,solver=\"liblinear\")"
   ]
  },
  {
   "cell_type": "code",
   "execution_count": 41,
   "id": "a01837a5",
   "metadata": {
    "execution": {
     "iopub.execute_input": "2023-08-13T15:31:22.211585Z",
     "iopub.status.busy": "2023-08-13T15:31:22.211309Z",
     "iopub.status.idle": "2023-08-13T15:31:33.723245Z",
     "shell.execute_reply": "2023-08-13T15:31:33.721773Z"
    },
    "papermill": {
     "duration": 11.54688,
     "end_time": "2023-08-13T15:31:33.727843",
     "exception": false,
     "start_time": "2023-08-13T15:31:22.180963",
     "status": "completed"
    },
    "tags": []
   },
   "outputs": [],
   "source": [
    "best_log_reg=log_reg.fit(X_trans,y)"
   ]
  },
  {
   "cell_type": "code",
   "execution_count": 42,
   "id": "ad946dca",
   "metadata": {
    "execution": {
     "iopub.execute_input": "2023-08-13T15:31:33.799626Z",
     "iopub.status.busy": "2023-08-13T15:31:33.799320Z",
     "iopub.status.idle": "2023-08-13T15:31:34.474342Z",
     "shell.execute_reply": "2023-08-13T15:31:34.473431Z"
    },
    "papermill": {
     "duration": 0.708123,
     "end_time": "2023-08-13T15:31:34.476460",
     "exception": false,
     "start_time": "2023-08-13T15:31:33.768337",
     "status": "completed"
    },
    "tags": []
   },
   "outputs": [
    {
     "data": {
      "text/plain": [
       "0.8791395814645055"
      ]
     },
     "execution_count": 42,
     "metadata": {},
     "output_type": "execute_result"
    }
   ],
   "source": [
    "y_pred=best_log_reg.predict(X_trans)\n",
    "from sklearn.metrics import *\n",
    "accuracy_score(y,y_pred)"
   ]
  },
  {
   "cell_type": "markdown",
   "id": "e819ce04",
   "metadata": {
    "papermill": {
     "duration": 0.030176,
     "end_time": "2023-08-13T15:31:34.537201",
     "exception": false,
     "start_time": "2023-08-13T15:31:34.507025",
     "status": "completed"
    },
    "tags": []
   },
   "source": [
    "**LINEAR SVM**"
   ]
  },
  {
   "cell_type": "code",
   "execution_count": 43,
   "id": "246a571a",
   "metadata": {
    "execution": {
     "iopub.execute_input": "2023-08-13T15:31:34.598676Z",
     "iopub.status.busy": "2023-08-13T15:31:34.598345Z",
     "iopub.status.idle": "2023-08-13T15:31:34.602167Z",
     "shell.execute_reply": "2023-08-13T15:31:34.601555Z"
    },
    "papermill": {
     "duration": 0.035766,
     "end_time": "2023-08-13T15:31:34.603838",
     "exception": false,
     "start_time": "2023-08-13T15:31:34.568072",
     "status": "completed"
    },
    "tags": []
   },
   "outputs": [],
   "source": [
    "from sklearn.svm import LinearSVC\n",
    "svc=LinearSVC()"
   ]
  },
  {
   "cell_type": "code",
   "execution_count": 44,
   "id": "5663f04b",
   "metadata": {
    "execution": {
     "iopub.execute_input": "2023-08-13T15:31:34.664828Z",
     "iopub.status.busy": "2023-08-13T15:31:34.664045Z",
     "iopub.status.idle": "2023-08-13T15:31:34.668788Z",
     "shell.execute_reply": "2023-08-13T15:31:34.667956Z"
    },
    "papermill": {
     "duration": 0.037276,
     "end_time": "2023-08-13T15:31:34.670483",
     "exception": false,
     "start_time": "2023-08-13T15:31:34.633207",
     "status": "completed"
    },
    "tags": []
   },
   "outputs": [],
   "source": [
    "param_grid={\"C\":[0.01,0.1,1,10],\n",
    "           \"max_iter\":[100,500,1000],\n",
    "           \"loss\":[\"hinge\",\"Squared_hinge\"]}"
   ]
  },
  {
   "cell_type": "code",
   "execution_count": 45,
   "id": "3b7acd69",
   "metadata": {
    "execution": {
     "iopub.execute_input": "2023-08-13T15:31:34.730682Z",
     "iopub.status.busy": "2023-08-13T15:31:34.730408Z",
     "iopub.status.idle": "2023-08-13T15:31:34.734134Z",
     "shell.execute_reply": "2023-08-13T15:31:34.733304Z"
    },
    "papermill": {
     "duration": 0.03568,
     "end_time": "2023-08-13T15:31:34.735851",
     "exception": false,
     "start_time": "2023-08-13T15:31:34.700171",
     "status": "completed"
    },
    "tags": []
   },
   "outputs": [],
   "source": [
    "grid_search1=GridSearchCV(svc,param_grid,cv=3,n_jobs=-1)"
   ]
  },
  {
   "cell_type": "code",
   "execution_count": 46,
   "id": "cae3cdc7",
   "metadata": {
    "execution": {
     "iopub.execute_input": "2023-08-13T15:31:34.795796Z",
     "iopub.status.busy": "2023-08-13T15:31:34.795484Z",
     "iopub.status.idle": "2023-08-13T15:32:26.016212Z",
     "shell.execute_reply": "2023-08-13T15:32:26.015212Z"
    },
    "papermill": {
     "duration": 51.252785,
     "end_time": "2023-08-13T15:32:26.018454",
     "exception": false,
     "start_time": "2023-08-13T15:31:34.765669",
     "status": "completed"
    },
    "tags": []
   },
   "outputs": [
    {
     "name": "stderr",
     "output_type": "stream",
     "text": [
      "/opt/conda/lib/python3.10/site-packages/sklearn/svm/_base.py:1244: ConvergenceWarning: Liblinear failed to converge, increase the number of iterations.\n",
      "  warnings.warn(\n",
      "/opt/conda/lib/python3.10/site-packages/sklearn/svm/_base.py:1244: ConvergenceWarning: Liblinear failed to converge, increase the number of iterations.\n",
      "  warnings.warn(\n",
      "/opt/conda/lib/python3.10/site-packages/sklearn/svm/_base.py:1244: ConvergenceWarning: Liblinear failed to converge, increase the number of iterations.\n",
      "  warnings.warn(\n",
      "/opt/conda/lib/python3.10/site-packages/sklearn/svm/_base.py:1244: ConvergenceWarning: Liblinear failed to converge, increase the number of iterations.\n",
      "  warnings.warn(\n",
      "/opt/conda/lib/python3.10/site-packages/sklearn/svm/_base.py:1244: ConvergenceWarning: Liblinear failed to converge, increase the number of iterations.\n",
      "  warnings.warn(\n",
      "/opt/conda/lib/python3.10/site-packages/sklearn/svm/_base.py:1244: ConvergenceWarning: Liblinear failed to converge, increase the number of iterations.\n",
      "  warnings.warn(\n",
      "/opt/conda/lib/python3.10/site-packages/sklearn/svm/_base.py:1244: ConvergenceWarning: Liblinear failed to converge, increase the number of iterations.\n",
      "  warnings.warn(\n",
      "/opt/conda/lib/python3.10/site-packages/sklearn/svm/_base.py:1244: ConvergenceWarning: Liblinear failed to converge, increase the number of iterations.\n",
      "  warnings.warn(\n",
      "/opt/conda/lib/python3.10/site-packages/sklearn/svm/_base.py:1244: ConvergenceWarning: Liblinear failed to converge, increase the number of iterations.\n",
      "  warnings.warn(\n",
      "/opt/conda/lib/python3.10/site-packages/sklearn/svm/_base.py:1244: ConvergenceWarning: Liblinear failed to converge, increase the number of iterations.\n",
      "  warnings.warn(\n",
      "/opt/conda/lib/python3.10/site-packages/sklearn/svm/_base.py:1244: ConvergenceWarning: Liblinear failed to converge, increase the number of iterations.\n",
      "  warnings.warn(\n",
      "/opt/conda/lib/python3.10/site-packages/sklearn/svm/_base.py:1244: ConvergenceWarning: Liblinear failed to converge, increase the number of iterations.\n",
      "  warnings.warn(\n",
      "/opt/conda/lib/python3.10/site-packages/sklearn/svm/_base.py:1244: ConvergenceWarning: Liblinear failed to converge, increase the number of iterations.\n",
      "  warnings.warn(\n",
      "/opt/conda/lib/python3.10/site-packages/sklearn/svm/_base.py:1244: ConvergenceWarning: Liblinear failed to converge, increase the number of iterations.\n",
      "  warnings.warn(\n",
      "/opt/conda/lib/python3.10/site-packages/sklearn/svm/_base.py:1244: ConvergenceWarning: Liblinear failed to converge, increase the number of iterations.\n",
      "  warnings.warn(\n",
      "/opt/conda/lib/python3.10/site-packages/sklearn/svm/_base.py:1244: ConvergenceWarning: Liblinear failed to converge, increase the number of iterations.\n",
      "  warnings.warn(\n",
      "/opt/conda/lib/python3.10/site-packages/sklearn/svm/_base.py:1244: ConvergenceWarning: Liblinear failed to converge, increase the number of iterations.\n",
      "  warnings.warn(\n",
      "/opt/conda/lib/python3.10/site-packages/sklearn/svm/_base.py:1244: ConvergenceWarning: Liblinear failed to converge, increase the number of iterations.\n",
      "  warnings.warn(\n",
      "/opt/conda/lib/python3.10/site-packages/sklearn/model_selection/_validation.py:378: FitFailedWarning: \n",
      "36 fits failed out of a total of 72.\n",
      "The score on these train-test partitions for these parameters will be set to nan.\n",
      "If these failures are not expected, you can try to debug them by setting error_score='raise'.\n",
      "\n",
      "Below are more details about the failures:\n",
      "--------------------------------------------------------------------------------\n",
      "3 fits failed with the following error:\n",
      "Traceback (most recent call last):\n",
      "  File \"/opt/conda/lib/python3.10/site-packages/sklearn/model_selection/_validation.py\", line 686, in _fit_and_score\n",
      "    estimator.fit(X_train, y_train, **fit_params)\n",
      "  File \"/opt/conda/lib/python3.10/site-packages/sklearn/svm/_classes.py\", line 261, in fit\n",
      "    self._validate_params()\n",
      "  File \"/opt/conda/lib/python3.10/site-packages/sklearn/base.py\", line 600, in _validate_params\n",
      "    validate_parameter_constraints(\n",
      "  File \"/opt/conda/lib/python3.10/site-packages/sklearn/utils/_param_validation.py\", line 97, in validate_parameter_constraints\n",
      "    raise InvalidParameterError(\n",
      "sklearn.utils._param_validation.InvalidParameterError: The 'loss' parameter of LinearSVC must be a str among {'hinge', 'squared_hinge'}. Got 'Squared_hinge' instead.\n",
      "\n",
      "--------------------------------------------------------------------------------\n",
      "33 fits failed with the following error:\n",
      "Traceback (most recent call last):\n",
      "  File \"/opt/conda/lib/python3.10/site-packages/sklearn/model_selection/_validation.py\", line 686, in _fit_and_score\n",
      "    estimator.fit(X_train, y_train, **fit_params)\n",
      "  File \"/opt/conda/lib/python3.10/site-packages/sklearn/svm/_classes.py\", line 261, in fit\n",
      "    self._validate_params()\n",
      "  File \"/opt/conda/lib/python3.10/site-packages/sklearn/base.py\", line 600, in _validate_params\n",
      "    validate_parameter_constraints(\n",
      "  File \"/opt/conda/lib/python3.10/site-packages/sklearn/utils/_param_validation.py\", line 97, in validate_parameter_constraints\n",
      "    raise InvalidParameterError(\n",
      "sklearn.utils._param_validation.InvalidParameterError: The 'loss' parameter of LinearSVC must be a str among {'squared_hinge', 'hinge'}. Got 'Squared_hinge' instead.\n",
      "\n",
      "  warnings.warn(some_fits_failed_message, FitFailedWarning)\n",
      "/opt/conda/lib/python3.10/site-packages/sklearn/model_selection/_search.py:952: UserWarning: One or more of the test scores are non-finite: [0.72298751 0.72298751 0.72298751        nan        nan        nan\n",
      " 0.80675604 0.80675604 0.80675604        nan        nan        nan\n",
      " 0.81847897 0.81847897 0.81847897        nan        nan        nan\n",
      " 0.79399477 0.79371214 0.79379201        nan        nan        nan]\n",
      "  warnings.warn(\n",
      "/opt/conda/lib/python3.10/site-packages/sklearn/svm/_base.py:1244: ConvergenceWarning: Liblinear failed to converge, increase the number of iterations.\n",
      "  warnings.warn(\n"
     ]
    },
    {
     "data": {
      "text/html": [
       "<style>#sk-container-id-1 {color: black;background-color: white;}#sk-container-id-1 pre{padding: 0;}#sk-container-id-1 div.sk-toggleable {background-color: white;}#sk-container-id-1 label.sk-toggleable__label {cursor: pointer;display: block;width: 100%;margin-bottom: 0;padding: 0.3em;box-sizing: border-box;text-align: center;}#sk-container-id-1 label.sk-toggleable__label-arrow:before {content: \"▸\";float: left;margin-right: 0.25em;color: #696969;}#sk-container-id-1 label.sk-toggleable__label-arrow:hover:before {color: black;}#sk-container-id-1 div.sk-estimator:hover label.sk-toggleable__label-arrow:before {color: black;}#sk-container-id-1 div.sk-toggleable__content {max-height: 0;max-width: 0;overflow: hidden;text-align: left;background-color: #f0f8ff;}#sk-container-id-1 div.sk-toggleable__content pre {margin: 0.2em;color: black;border-radius: 0.25em;background-color: #f0f8ff;}#sk-container-id-1 input.sk-toggleable__control:checked~div.sk-toggleable__content {max-height: 200px;max-width: 100%;overflow: auto;}#sk-container-id-1 input.sk-toggleable__control:checked~label.sk-toggleable__label-arrow:before {content: \"▾\";}#sk-container-id-1 div.sk-estimator input.sk-toggleable__control:checked~label.sk-toggleable__label {background-color: #d4ebff;}#sk-container-id-1 div.sk-label input.sk-toggleable__control:checked~label.sk-toggleable__label {background-color: #d4ebff;}#sk-container-id-1 input.sk-hidden--visually {border: 0;clip: rect(1px 1px 1px 1px);clip: rect(1px, 1px, 1px, 1px);height: 1px;margin: -1px;overflow: hidden;padding: 0;position: absolute;width: 1px;}#sk-container-id-1 div.sk-estimator {font-family: monospace;background-color: #f0f8ff;border: 1px dotted black;border-radius: 0.25em;box-sizing: border-box;margin-bottom: 0.5em;}#sk-container-id-1 div.sk-estimator:hover {background-color: #d4ebff;}#sk-container-id-1 div.sk-parallel-item::after {content: \"\";width: 100%;border-bottom: 1px solid gray;flex-grow: 1;}#sk-container-id-1 div.sk-label:hover label.sk-toggleable__label {background-color: #d4ebff;}#sk-container-id-1 div.sk-serial::before {content: \"\";position: absolute;border-left: 1px solid gray;box-sizing: border-box;top: 0;bottom: 0;left: 50%;z-index: 0;}#sk-container-id-1 div.sk-serial {display: flex;flex-direction: column;align-items: center;background-color: white;padding-right: 0.2em;padding-left: 0.2em;position: relative;}#sk-container-id-1 div.sk-item {position: relative;z-index: 1;}#sk-container-id-1 div.sk-parallel {display: flex;align-items: stretch;justify-content: center;background-color: white;position: relative;}#sk-container-id-1 div.sk-item::before, #sk-container-id-1 div.sk-parallel-item::before {content: \"\";position: absolute;border-left: 1px solid gray;box-sizing: border-box;top: 0;bottom: 0;left: 50%;z-index: -1;}#sk-container-id-1 div.sk-parallel-item {display: flex;flex-direction: column;z-index: 1;position: relative;background-color: white;}#sk-container-id-1 div.sk-parallel-item:first-child::after {align-self: flex-end;width: 50%;}#sk-container-id-1 div.sk-parallel-item:last-child::after {align-self: flex-start;width: 50%;}#sk-container-id-1 div.sk-parallel-item:only-child::after {width: 0;}#sk-container-id-1 div.sk-dashed-wrapped {border: 1px dashed gray;margin: 0 0.4em 0.5em 0.4em;box-sizing: border-box;padding-bottom: 0.4em;background-color: white;}#sk-container-id-1 div.sk-label label {font-family: monospace;font-weight: bold;display: inline-block;line-height: 1.2em;}#sk-container-id-1 div.sk-label-container {text-align: center;}#sk-container-id-1 div.sk-container {/* jupyter's `normalize.less` sets `[hidden] { display: none; }` but bootstrap.min.css set `[hidden] { display: none !important; }` so we also need the `!important` here to be able to override the default hidden behavior on the sphinx rendered scikit-learn.org. See: https://github.com/scikit-learn/scikit-learn/issues/21755 */display: inline-block !important;position: relative;}#sk-container-id-1 div.sk-text-repr-fallback {display: none;}</style><div id=\"sk-container-id-1\" class=\"sk-top-container\"><div class=\"sk-text-repr-fallback\"><pre>GridSearchCV(cv=3, estimator=LinearSVC(), n_jobs=-1,\n",
       "             param_grid={&#x27;C&#x27;: [0.01, 0.1, 1, 10],\n",
       "                         &#x27;loss&#x27;: [&#x27;hinge&#x27;, &#x27;Squared_hinge&#x27;],\n",
       "                         &#x27;max_iter&#x27;: [100, 500, 1000]})</pre><b>In a Jupyter environment, please rerun this cell to show the HTML representation or trust the notebook. <br />On GitHub, the HTML representation is unable to render, please try loading this page with nbviewer.org.</b></div><div class=\"sk-container\" hidden><div class=\"sk-item sk-dashed-wrapped\"><div class=\"sk-label-container\"><div class=\"sk-label sk-toggleable\"><input class=\"sk-toggleable__control sk-hidden--visually\" id=\"sk-estimator-id-1\" type=\"checkbox\" ><label for=\"sk-estimator-id-1\" class=\"sk-toggleable__label sk-toggleable__label-arrow\">GridSearchCV</label><div class=\"sk-toggleable__content\"><pre>GridSearchCV(cv=3, estimator=LinearSVC(), n_jobs=-1,\n",
       "             param_grid={&#x27;C&#x27;: [0.01, 0.1, 1, 10],\n",
       "                         &#x27;loss&#x27;: [&#x27;hinge&#x27;, &#x27;Squared_hinge&#x27;],\n",
       "                         &#x27;max_iter&#x27;: [100, 500, 1000]})</pre></div></div></div><div class=\"sk-parallel\"><div class=\"sk-parallel-item\"><div class=\"sk-item\"><div class=\"sk-label-container\"><div class=\"sk-label sk-toggleable\"><input class=\"sk-toggleable__control sk-hidden--visually\" id=\"sk-estimator-id-2\" type=\"checkbox\" ><label for=\"sk-estimator-id-2\" class=\"sk-toggleable__label sk-toggleable__label-arrow\">estimator: LinearSVC</label><div class=\"sk-toggleable__content\"><pre>LinearSVC()</pre></div></div></div><div class=\"sk-serial\"><div class=\"sk-item\"><div class=\"sk-estimator sk-toggleable\"><input class=\"sk-toggleable__control sk-hidden--visually\" id=\"sk-estimator-id-3\" type=\"checkbox\" ><label for=\"sk-estimator-id-3\" class=\"sk-toggleable__label sk-toggleable__label-arrow\">LinearSVC</label><div class=\"sk-toggleable__content\"><pre>LinearSVC()</pre></div></div></div></div></div></div></div></div></div></div>"
      ],
      "text/plain": [
       "GridSearchCV(cv=3, estimator=LinearSVC(), n_jobs=-1,\n",
       "             param_grid={'C': [0.01, 0.1, 1, 10],\n",
       "                         'loss': ['hinge', 'Squared_hinge'],\n",
       "                         'max_iter': [100, 500, 1000]})"
      ]
     },
     "execution_count": 46,
     "metadata": {},
     "output_type": "execute_result"
    }
   ],
   "source": [
    "grid_search1.fit(X_trans,y)"
   ]
  },
  {
   "cell_type": "code",
   "execution_count": 47,
   "id": "f9e044ce",
   "metadata": {
    "execution": {
     "iopub.execute_input": "2023-08-13T15:32:26.085830Z",
     "iopub.status.busy": "2023-08-13T15:32:26.085489Z",
     "iopub.status.idle": "2023-08-13T15:32:26.091269Z",
     "shell.execute_reply": "2023-08-13T15:32:26.090376Z"
    },
    "papermill": {
     "duration": 0.041666,
     "end_time": "2023-08-13T15:32:26.093082",
     "exception": false,
     "start_time": "2023-08-13T15:32:26.051416",
     "status": "completed"
    },
    "tags": []
   },
   "outputs": [
    {
     "data": {
      "text/plain": [
       "{'C': 1, 'loss': 'hinge', 'max_iter': 500}"
      ]
     },
     "execution_count": 47,
     "metadata": {},
     "output_type": "execute_result"
    }
   ],
   "source": [
    "grid_search1.best_params_"
   ]
  },
  {
   "cell_type": "code",
   "execution_count": 48,
   "id": "71608ec4",
   "metadata": {
    "execution": {
     "iopub.execute_input": "2023-08-13T15:32:26.158696Z",
     "iopub.status.busy": "2023-08-13T15:32:26.158204Z",
     "iopub.status.idle": "2023-08-13T15:32:26.162421Z",
     "shell.execute_reply": "2023-08-13T15:32:26.161796Z"
    },
    "papermill": {
     "duration": 0.039573,
     "end_time": "2023-08-13T15:32:26.164128",
     "exception": false,
     "start_time": "2023-08-13T15:32:26.124555",
     "status": "completed"
    },
    "tags": []
   },
   "outputs": [],
   "source": [
    "svc=LinearSVC(C=0.1,max_iter=100,loss=\"hinge\")"
   ]
  },
  {
   "cell_type": "code",
   "execution_count": 49,
   "id": "8a0852f9",
   "metadata": {
    "execution": {
     "iopub.execute_input": "2023-08-13T15:32:26.229855Z",
     "iopub.status.busy": "2023-08-13T15:32:26.229576Z",
     "iopub.status.idle": "2023-08-13T15:32:27.177395Z",
     "shell.execute_reply": "2023-08-13T15:32:27.176489Z"
    },
    "papermill": {
     "duration": 0.983297,
     "end_time": "2023-08-13T15:32:27.179609",
     "exception": false,
     "start_time": "2023-08-13T15:32:26.196312",
     "status": "completed"
    },
    "tags": []
   },
   "outputs": [
    {
     "name": "stderr",
     "output_type": "stream",
     "text": [
      "/opt/conda/lib/python3.10/site-packages/sklearn/svm/_base.py:1244: ConvergenceWarning: Liblinear failed to converge, increase the number of iterations.\n",
      "  warnings.warn(\n"
     ]
    }
   ],
   "source": [
    "best_svc=svc.fit(X_trans,y)"
   ]
  },
  {
   "cell_type": "code",
   "execution_count": 50,
   "id": "ba3bf961",
   "metadata": {
    "execution": {
     "iopub.execute_input": "2023-08-13T15:32:27.244954Z",
     "iopub.status.busy": "2023-08-13T15:32:27.244484Z",
     "iopub.status.idle": "2023-08-13T15:32:27.928836Z",
     "shell.execute_reply": "2023-08-13T15:32:27.927854Z"
    },
    "papermill": {
     "duration": 0.719187,
     "end_time": "2023-08-13T15:32:27.930911",
     "exception": false,
     "start_time": "2023-08-13T15:32:27.211724",
     "status": "completed"
    },
    "tags": []
   },
   "outputs": [
    {
     "data": {
      "text/plain": [
       "0.844431610120547"
      ]
     },
     "execution_count": 50,
     "metadata": {},
     "output_type": "execute_result"
    }
   ],
   "source": [
    "from sklearn.metrics import *\n",
    "y_pred1=best_svc.predict(X_trans)\n",
    "accuracy_score(y,y_pred1)"
   ]
  },
  {
   "cell_type": "markdown",
   "id": "4b2ea5fe",
   "metadata": {
    "papermill": {
     "duration": 0.031308,
     "end_time": "2023-08-13T15:32:27.995030",
     "exception": false,
     "start_time": "2023-08-13T15:32:27.963722",
     "status": "completed"
    },
    "tags": []
   },
   "source": [
    "**NAIVE BAYES**"
   ]
  },
  {
   "cell_type": "code",
   "execution_count": 51,
   "id": "2af57575",
   "metadata": {
    "execution": {
     "iopub.execute_input": "2023-08-13T15:32:28.060034Z",
     "iopub.status.busy": "2023-08-13T15:32:28.059486Z",
     "iopub.status.idle": "2023-08-13T15:32:28.072001Z",
     "shell.execute_reply": "2023-08-13T15:32:28.071354Z"
    },
    "papermill": {
     "duration": 0.047015,
     "end_time": "2023-08-13T15:32:28.073776",
     "exception": false,
     "start_time": "2023-08-13T15:32:28.026761",
     "status": "completed"
    },
    "tags": []
   },
   "outputs": [],
   "source": [
    "from sklearn.naive_bayes import MultinomialNB\n",
    "naive_bayes=MultinomialNB()"
   ]
  },
  {
   "cell_type": "code",
   "execution_count": 52,
   "id": "2401e259",
   "metadata": {
    "execution": {
     "iopub.execute_input": "2023-08-13T15:32:28.138622Z",
     "iopub.status.busy": "2023-08-13T15:32:28.138156Z",
     "iopub.status.idle": "2023-08-13T15:32:28.142192Z",
     "shell.execute_reply": "2023-08-13T15:32:28.141575Z"
    },
    "papermill": {
     "duration": 0.038234,
     "end_time": "2023-08-13T15:32:28.143873",
     "exception": false,
     "start_time": "2023-08-13T15:32:28.105639",
     "status": "completed"
    },
    "tags": []
   },
   "outputs": [],
   "source": [
    "param_grid={\"alpha\":[0.1, 0.5, 1.0, 2.0]}"
   ]
  },
  {
   "cell_type": "code",
   "execution_count": 53,
   "id": "3bf5a2e1",
   "metadata": {
    "execution": {
     "iopub.execute_input": "2023-08-13T15:32:28.208199Z",
     "iopub.status.busy": "2023-08-13T15:32:28.207935Z",
     "iopub.status.idle": "2023-08-13T15:32:28.212011Z",
     "shell.execute_reply": "2023-08-13T15:32:28.211240Z"
    },
    "papermill": {
     "duration": 0.038412,
     "end_time": "2023-08-13T15:32:28.213851",
     "exception": false,
     "start_time": "2023-08-13T15:32:28.175439",
     "status": "completed"
    },
    "tags": []
   },
   "outputs": [],
   "source": [
    "grid_search2=GridSearchCV(naive_bayes,param_grid,cv=3,scoring=\"accuracy\")"
   ]
  },
  {
   "cell_type": "code",
   "execution_count": 54,
   "id": "53b2fee3",
   "metadata": {
    "execution": {
     "iopub.execute_input": "2023-08-13T15:32:28.277895Z",
     "iopub.status.busy": "2023-08-13T15:32:28.277648Z",
     "iopub.status.idle": "2023-08-13T15:32:39.347847Z",
     "shell.execute_reply": "2023-08-13T15:32:39.346846Z"
    },
    "papermill": {
     "duration": 11.104425,
     "end_time": "2023-08-13T15:32:39.349850",
     "exception": false,
     "start_time": "2023-08-13T15:32:28.245425",
     "status": "completed"
    },
    "tags": []
   },
   "outputs": [
    {
     "data": {
      "text/html": [
       "<style>#sk-container-id-2 {color: black;background-color: white;}#sk-container-id-2 pre{padding: 0;}#sk-container-id-2 div.sk-toggleable {background-color: white;}#sk-container-id-2 label.sk-toggleable__label {cursor: pointer;display: block;width: 100%;margin-bottom: 0;padding: 0.3em;box-sizing: border-box;text-align: center;}#sk-container-id-2 label.sk-toggleable__label-arrow:before {content: \"▸\";float: left;margin-right: 0.25em;color: #696969;}#sk-container-id-2 label.sk-toggleable__label-arrow:hover:before {color: black;}#sk-container-id-2 div.sk-estimator:hover label.sk-toggleable__label-arrow:before {color: black;}#sk-container-id-2 div.sk-toggleable__content {max-height: 0;max-width: 0;overflow: hidden;text-align: left;background-color: #f0f8ff;}#sk-container-id-2 div.sk-toggleable__content pre {margin: 0.2em;color: black;border-radius: 0.25em;background-color: #f0f8ff;}#sk-container-id-2 input.sk-toggleable__control:checked~div.sk-toggleable__content {max-height: 200px;max-width: 100%;overflow: auto;}#sk-container-id-2 input.sk-toggleable__control:checked~label.sk-toggleable__label-arrow:before {content: \"▾\";}#sk-container-id-2 div.sk-estimator input.sk-toggleable__control:checked~label.sk-toggleable__label {background-color: #d4ebff;}#sk-container-id-2 div.sk-label input.sk-toggleable__control:checked~label.sk-toggleable__label {background-color: #d4ebff;}#sk-container-id-2 input.sk-hidden--visually {border: 0;clip: rect(1px 1px 1px 1px);clip: rect(1px, 1px, 1px, 1px);height: 1px;margin: -1px;overflow: hidden;padding: 0;position: absolute;width: 1px;}#sk-container-id-2 div.sk-estimator {font-family: monospace;background-color: #f0f8ff;border: 1px dotted black;border-radius: 0.25em;box-sizing: border-box;margin-bottom: 0.5em;}#sk-container-id-2 div.sk-estimator:hover {background-color: #d4ebff;}#sk-container-id-2 div.sk-parallel-item::after {content: \"\";width: 100%;border-bottom: 1px solid gray;flex-grow: 1;}#sk-container-id-2 div.sk-label:hover label.sk-toggleable__label {background-color: #d4ebff;}#sk-container-id-2 div.sk-serial::before {content: \"\";position: absolute;border-left: 1px solid gray;box-sizing: border-box;top: 0;bottom: 0;left: 50%;z-index: 0;}#sk-container-id-2 div.sk-serial {display: flex;flex-direction: column;align-items: center;background-color: white;padding-right: 0.2em;padding-left: 0.2em;position: relative;}#sk-container-id-2 div.sk-item {position: relative;z-index: 1;}#sk-container-id-2 div.sk-parallel {display: flex;align-items: stretch;justify-content: center;background-color: white;position: relative;}#sk-container-id-2 div.sk-item::before, #sk-container-id-2 div.sk-parallel-item::before {content: \"\";position: absolute;border-left: 1px solid gray;box-sizing: border-box;top: 0;bottom: 0;left: 50%;z-index: -1;}#sk-container-id-2 div.sk-parallel-item {display: flex;flex-direction: column;z-index: 1;position: relative;background-color: white;}#sk-container-id-2 div.sk-parallel-item:first-child::after {align-self: flex-end;width: 50%;}#sk-container-id-2 div.sk-parallel-item:last-child::after {align-self: flex-start;width: 50%;}#sk-container-id-2 div.sk-parallel-item:only-child::after {width: 0;}#sk-container-id-2 div.sk-dashed-wrapped {border: 1px dashed gray;margin: 0 0.4em 0.5em 0.4em;box-sizing: border-box;padding-bottom: 0.4em;background-color: white;}#sk-container-id-2 div.sk-label label {font-family: monospace;font-weight: bold;display: inline-block;line-height: 1.2em;}#sk-container-id-2 div.sk-label-container {text-align: center;}#sk-container-id-2 div.sk-container {/* jupyter's `normalize.less` sets `[hidden] { display: none; }` but bootstrap.min.css set `[hidden] { display: none !important; }` so we also need the `!important` here to be able to override the default hidden behavior on the sphinx rendered scikit-learn.org. See: https://github.com/scikit-learn/scikit-learn/issues/21755 */display: inline-block !important;position: relative;}#sk-container-id-2 div.sk-text-repr-fallback {display: none;}</style><div id=\"sk-container-id-2\" class=\"sk-top-container\"><div class=\"sk-text-repr-fallback\"><pre>GridSearchCV(cv=3, estimator=MultinomialNB(),\n",
       "             param_grid={&#x27;alpha&#x27;: [0.1, 0.5, 1.0, 2.0]}, scoring=&#x27;accuracy&#x27;)</pre><b>In a Jupyter environment, please rerun this cell to show the HTML representation or trust the notebook. <br />On GitHub, the HTML representation is unable to render, please try loading this page with nbviewer.org.</b></div><div class=\"sk-container\" hidden><div class=\"sk-item sk-dashed-wrapped\"><div class=\"sk-label-container\"><div class=\"sk-label sk-toggleable\"><input class=\"sk-toggleable__control sk-hidden--visually\" id=\"sk-estimator-id-4\" type=\"checkbox\" ><label for=\"sk-estimator-id-4\" class=\"sk-toggleable__label sk-toggleable__label-arrow\">GridSearchCV</label><div class=\"sk-toggleable__content\"><pre>GridSearchCV(cv=3, estimator=MultinomialNB(),\n",
       "             param_grid={&#x27;alpha&#x27;: [0.1, 0.5, 1.0, 2.0]}, scoring=&#x27;accuracy&#x27;)</pre></div></div></div><div class=\"sk-parallel\"><div class=\"sk-parallel-item\"><div class=\"sk-item\"><div class=\"sk-label-container\"><div class=\"sk-label sk-toggleable\"><input class=\"sk-toggleable__control sk-hidden--visually\" id=\"sk-estimator-id-5\" type=\"checkbox\" ><label for=\"sk-estimator-id-5\" class=\"sk-toggleable__label sk-toggleable__label-arrow\">estimator: MultinomialNB</label><div class=\"sk-toggleable__content\"><pre>MultinomialNB()</pre></div></div></div><div class=\"sk-serial\"><div class=\"sk-item\"><div class=\"sk-estimator sk-toggleable\"><input class=\"sk-toggleable__control sk-hidden--visually\" id=\"sk-estimator-id-6\" type=\"checkbox\" ><label for=\"sk-estimator-id-6\" class=\"sk-toggleable__label sk-toggleable__label-arrow\">MultinomialNB</label><div class=\"sk-toggleable__content\"><pre>MultinomialNB()</pre></div></div></div></div></div></div></div></div></div></div>"
      ],
      "text/plain": [
       "GridSearchCV(cv=3, estimator=MultinomialNB(),\n",
       "             param_grid={'alpha': [0.1, 0.5, 1.0, 2.0]}, scoring='accuracy')"
      ]
     },
     "execution_count": 54,
     "metadata": {},
     "output_type": "execute_result"
    }
   ],
   "source": [
    "grid_search2.fit(X_trans,y)"
   ]
  },
  {
   "cell_type": "code",
   "execution_count": 55,
   "id": "b51c01fc",
   "metadata": {
    "execution": {
     "iopub.execute_input": "2023-08-13T15:32:39.418613Z",
     "iopub.status.busy": "2023-08-13T15:32:39.418280Z",
     "iopub.status.idle": "2023-08-13T15:32:39.422376Z",
     "shell.execute_reply": "2023-08-13T15:32:39.421449Z"
    },
    "papermill": {
     "duration": 0.040911,
     "end_time": "2023-08-13T15:32:39.424369",
     "exception": false,
     "start_time": "2023-08-13T15:32:39.383458",
     "status": "completed"
    },
    "tags": []
   },
   "outputs": [],
   "source": [
    "best_alpha=grid_search2.best_params_[\"alpha\"]"
   ]
  },
  {
   "cell_type": "code",
   "execution_count": 56,
   "id": "fdb67ae9",
   "metadata": {
    "execution": {
     "iopub.execute_input": "2023-08-13T15:32:39.489106Z",
     "iopub.status.busy": "2023-08-13T15:32:39.488820Z",
     "iopub.status.idle": "2023-08-13T15:32:39.492783Z",
     "shell.execute_reply": "2023-08-13T15:32:39.491922Z"
    },
    "papermill": {
     "duration": 0.03818,
     "end_time": "2023-08-13T15:32:39.494548",
     "exception": false,
     "start_time": "2023-08-13T15:32:39.456368",
     "status": "completed"
    },
    "tags": []
   },
   "outputs": [],
   "source": [
    "best_naive_bayes=MultinomialNB(alpha=best_alpha)"
   ]
  },
  {
   "cell_type": "code",
   "execution_count": 57,
   "id": "6baef846",
   "metadata": {
    "execution": {
     "iopub.execute_input": "2023-08-13T15:32:39.558385Z",
     "iopub.status.busy": "2023-08-13T15:32:39.558112Z",
     "iopub.status.idle": "2023-08-13T15:32:40.506372Z",
     "shell.execute_reply": "2023-08-13T15:32:40.505664Z"
    },
    "papermill": {
     "duration": 0.982441,
     "end_time": "2023-08-13T15:32:40.508227",
     "exception": false,
     "start_time": "2023-08-13T15:32:39.525786",
     "status": "completed"
    },
    "tags": []
   },
   "outputs": [
    {
     "data": {
      "text/html": [
       "<style>#sk-container-id-3 {color: black;background-color: white;}#sk-container-id-3 pre{padding: 0;}#sk-container-id-3 div.sk-toggleable {background-color: white;}#sk-container-id-3 label.sk-toggleable__label {cursor: pointer;display: block;width: 100%;margin-bottom: 0;padding: 0.3em;box-sizing: border-box;text-align: center;}#sk-container-id-3 label.sk-toggleable__label-arrow:before {content: \"▸\";float: left;margin-right: 0.25em;color: #696969;}#sk-container-id-3 label.sk-toggleable__label-arrow:hover:before {color: black;}#sk-container-id-3 div.sk-estimator:hover label.sk-toggleable__label-arrow:before {color: black;}#sk-container-id-3 div.sk-toggleable__content {max-height: 0;max-width: 0;overflow: hidden;text-align: left;background-color: #f0f8ff;}#sk-container-id-3 div.sk-toggleable__content pre {margin: 0.2em;color: black;border-radius: 0.25em;background-color: #f0f8ff;}#sk-container-id-3 input.sk-toggleable__control:checked~div.sk-toggleable__content {max-height: 200px;max-width: 100%;overflow: auto;}#sk-container-id-3 input.sk-toggleable__control:checked~label.sk-toggleable__label-arrow:before {content: \"▾\";}#sk-container-id-3 div.sk-estimator input.sk-toggleable__control:checked~label.sk-toggleable__label {background-color: #d4ebff;}#sk-container-id-3 div.sk-label input.sk-toggleable__control:checked~label.sk-toggleable__label {background-color: #d4ebff;}#sk-container-id-3 input.sk-hidden--visually {border: 0;clip: rect(1px 1px 1px 1px);clip: rect(1px, 1px, 1px, 1px);height: 1px;margin: -1px;overflow: hidden;padding: 0;position: absolute;width: 1px;}#sk-container-id-3 div.sk-estimator {font-family: monospace;background-color: #f0f8ff;border: 1px dotted black;border-radius: 0.25em;box-sizing: border-box;margin-bottom: 0.5em;}#sk-container-id-3 div.sk-estimator:hover {background-color: #d4ebff;}#sk-container-id-3 div.sk-parallel-item::after {content: \"\";width: 100%;border-bottom: 1px solid gray;flex-grow: 1;}#sk-container-id-3 div.sk-label:hover label.sk-toggleable__label {background-color: #d4ebff;}#sk-container-id-3 div.sk-serial::before {content: \"\";position: absolute;border-left: 1px solid gray;box-sizing: border-box;top: 0;bottom: 0;left: 50%;z-index: 0;}#sk-container-id-3 div.sk-serial {display: flex;flex-direction: column;align-items: center;background-color: white;padding-right: 0.2em;padding-left: 0.2em;position: relative;}#sk-container-id-3 div.sk-item {position: relative;z-index: 1;}#sk-container-id-3 div.sk-parallel {display: flex;align-items: stretch;justify-content: center;background-color: white;position: relative;}#sk-container-id-3 div.sk-item::before, #sk-container-id-3 div.sk-parallel-item::before {content: \"\";position: absolute;border-left: 1px solid gray;box-sizing: border-box;top: 0;bottom: 0;left: 50%;z-index: -1;}#sk-container-id-3 div.sk-parallel-item {display: flex;flex-direction: column;z-index: 1;position: relative;background-color: white;}#sk-container-id-3 div.sk-parallel-item:first-child::after {align-self: flex-end;width: 50%;}#sk-container-id-3 div.sk-parallel-item:last-child::after {align-self: flex-start;width: 50%;}#sk-container-id-3 div.sk-parallel-item:only-child::after {width: 0;}#sk-container-id-3 div.sk-dashed-wrapped {border: 1px dashed gray;margin: 0 0.4em 0.5em 0.4em;box-sizing: border-box;padding-bottom: 0.4em;background-color: white;}#sk-container-id-3 div.sk-label label {font-family: monospace;font-weight: bold;display: inline-block;line-height: 1.2em;}#sk-container-id-3 div.sk-label-container {text-align: center;}#sk-container-id-3 div.sk-container {/* jupyter's `normalize.less` sets `[hidden] { display: none; }` but bootstrap.min.css set `[hidden] { display: none !important; }` so we also need the `!important` here to be able to override the default hidden behavior on the sphinx rendered scikit-learn.org. See: https://github.com/scikit-learn/scikit-learn/issues/21755 */display: inline-block !important;position: relative;}#sk-container-id-3 div.sk-text-repr-fallback {display: none;}</style><div id=\"sk-container-id-3\" class=\"sk-top-container\"><div class=\"sk-text-repr-fallback\"><pre>MultinomialNB(alpha=0.5)</pre><b>In a Jupyter environment, please rerun this cell to show the HTML representation or trust the notebook. <br />On GitHub, the HTML representation is unable to render, please try loading this page with nbviewer.org.</b></div><div class=\"sk-container\" hidden><div class=\"sk-item\"><div class=\"sk-estimator sk-toggleable\"><input class=\"sk-toggleable__control sk-hidden--visually\" id=\"sk-estimator-id-7\" type=\"checkbox\" checked><label for=\"sk-estimator-id-7\" class=\"sk-toggleable__label sk-toggleable__label-arrow\">MultinomialNB</label><div class=\"sk-toggleable__content\"><pre>MultinomialNB(alpha=0.5)</pre></div></div></div></div></div>"
      ],
      "text/plain": [
       "MultinomialNB(alpha=0.5)"
      ]
     },
     "execution_count": 57,
     "metadata": {},
     "output_type": "execute_result"
    }
   ],
   "source": [
    "best_naive_bayes.fit(X_trans,y)"
   ]
  },
  {
   "cell_type": "code",
   "execution_count": 58,
   "id": "ef87d3f8",
   "metadata": {
    "execution": {
     "iopub.execute_input": "2023-08-13T15:32:40.573496Z",
     "iopub.status.busy": "2023-08-13T15:32:40.572987Z",
     "iopub.status.idle": "2023-08-13T15:32:41.251936Z",
     "shell.execute_reply": "2023-08-13T15:32:41.251000Z"
    },
    "papermill": {
     "duration": 0.713694,
     "end_time": "2023-08-13T15:32:41.254030",
     "exception": false,
     "start_time": "2023-08-13T15:32:40.540336",
     "status": "completed"
    },
    "tags": []
   },
   "outputs": [
    {
     "data": {
      "text/plain": [
       "0.8549564383931972"
      ]
     },
     "execution_count": 58,
     "metadata": {},
     "output_type": "execute_result"
    }
   ],
   "source": [
    "y_pred2=best_naive_bayes.predict(X_trans)\n",
    "from sklearn.metrics import *\n",
    "accuracy_score(y,y_pred2)"
   ]
  },
  {
   "cell_type": "markdown",
   "id": "2373eb81",
   "metadata": {
    "papermill": {
     "duration": 0.032074,
     "end_time": "2023-08-13T15:32:41.319282",
     "exception": false,
     "start_time": "2023-08-13T15:32:41.287208",
     "status": "completed"
    },
    "tags": []
   },
   "source": [
    "**KNN ALGORITHM**"
   ]
  },
  {
   "cell_type": "code",
   "execution_count": 59,
   "id": "94975141",
   "metadata": {
    "execution": {
     "iopub.execute_input": "2023-08-13T15:32:41.384981Z",
     "iopub.status.busy": "2023-08-13T15:32:41.384626Z",
     "iopub.status.idle": "2023-08-13T15:32:41.390991Z",
     "shell.execute_reply": "2023-08-13T15:32:41.390133Z"
    },
    "papermill": {
     "duration": 0.041367,
     "end_time": "2023-08-13T15:32:41.392886",
     "exception": false,
     "start_time": "2023-08-13T15:32:41.351519",
     "status": "completed"
    },
    "tags": []
   },
   "outputs": [
    {
     "data": {
      "text/plain": [
       "'from sklearn.neighbors import KNeighborsClassifier\\nknn=KNeighborsClassifier(n_neighbors=2)\\nknn.fit(X_trans,y)'"
      ]
     },
     "execution_count": 59,
     "metadata": {},
     "output_type": "execute_result"
    }
   ],
   "source": [
    "'''from sklearn.neighbors import KNeighborsClassifier\n",
    "knn=KNeighborsClassifier(n_neighbors=2)\n",
    "knn.fit(X_trans,y)'''"
   ]
  },
  {
   "cell_type": "markdown",
   "id": "2cd87189",
   "metadata": {
    "papermill": {
     "duration": 0.031554,
     "end_time": "2023-08-13T15:32:41.457265",
     "exception": false,
     "start_time": "2023-08-13T15:32:41.425711",
     "status": "completed"
    },
    "tags": []
   },
   "source": [
    "**RANDOM FOREST CLASSIFIER**"
   ]
  },
  {
   "cell_type": "code",
   "execution_count": 60,
   "id": "740e9e83",
   "metadata": {
    "execution": {
     "iopub.execute_input": "2023-08-13T15:32:41.522819Z",
     "iopub.status.busy": "2023-08-13T15:32:41.522484Z",
     "iopub.status.idle": "2023-08-13T15:32:41.527579Z",
     "shell.execute_reply": "2023-08-13T15:32:41.526732Z"
    },
    "papermill": {
     "duration": 0.040379,
     "end_time": "2023-08-13T15:32:41.529371",
     "exception": false,
     "start_time": "2023-08-13T15:32:41.488992",
     "status": "completed"
    },
    "tags": []
   },
   "outputs": [
    {
     "data": {
      "text/plain": [
       "'from sklearn.ensemble import RandomForestClassifier\\nrf_classifier=RandomForestClassifier(random_state=42)'"
      ]
     },
     "execution_count": 60,
     "metadata": {},
     "output_type": "execute_result"
    }
   ],
   "source": [
    "'''from sklearn.ensemble import RandomForestClassifier\n",
    "rf_classifier=RandomForestClassifier(random_state=42)'''"
   ]
  },
  {
   "cell_type": "code",
   "execution_count": 61,
   "id": "d6001c7f",
   "metadata": {
    "execution": {
     "iopub.execute_input": "2023-08-13T15:32:41.595992Z",
     "iopub.status.busy": "2023-08-13T15:32:41.595746Z",
     "iopub.status.idle": "2023-08-13T15:32:41.600199Z",
     "shell.execute_reply": "2023-08-13T15:32:41.599621Z"
    },
    "papermill": {
     "duration": 0.040444,
     "end_time": "2023-08-13T15:32:41.601773",
     "exception": false,
     "start_time": "2023-08-13T15:32:41.561329",
     "status": "completed"
    },
    "tags": []
   },
   "outputs": [
    {
     "data": {
      "text/plain": [
       "\"param_grid = {'n_estimators': [100, 200, 300],      \\n              'max_depth': [None, 10, 20, 30],      \\n              'min_samples_split': [2, 5, 10],     \\n              'min_samples_leaf': [1, 2, 4]}\""
      ]
     },
     "execution_count": 61,
     "metadata": {},
     "output_type": "execute_result"
    }
   ],
   "source": [
    "'''param_grid = {'n_estimators': [100, 200, 300],      \n",
    "              'max_depth': [None, 10, 20, 30],      \n",
    "              'min_samples_split': [2, 5, 10],     \n",
    "              'min_samples_leaf': [1, 2, 4]}'''"
   ]
  },
  {
   "cell_type": "code",
   "execution_count": 62,
   "id": "04d1ed40",
   "metadata": {
    "execution": {
     "iopub.execute_input": "2023-08-13T15:32:41.667720Z",
     "iopub.status.busy": "2023-08-13T15:32:41.667409Z",
     "iopub.status.idle": "2023-08-13T15:32:41.672775Z",
     "shell.execute_reply": "2023-08-13T15:32:41.671948Z"
    },
    "papermill": {
     "duration": 0.040429,
     "end_time": "2023-08-13T15:32:41.674526",
     "exception": false,
     "start_time": "2023-08-13T15:32:41.634097",
     "status": "completed"
    },
    "tags": []
   },
   "outputs": [
    {
     "data": {
      "text/plain": [
       "'grid_search3 = GridSearchCV(rf_classifier, param_grid, cv=3, n_jobs=-1)\\ngrid_search3.fit(X_trans,y)'"
      ]
     },
     "execution_count": 62,
     "metadata": {},
     "output_type": "execute_result"
    }
   ],
   "source": [
    "'''grid_search3 = GridSearchCV(rf_classifier, param_grid, cv=3, n_jobs=-1)\n",
    "grid_search3.fit(X_trans,y)'''"
   ]
  },
  {
   "cell_type": "markdown",
   "id": "57345f2e",
   "metadata": {
    "papermill": {
     "duration": 0.032561,
     "end_time": "2023-08-13T15:32:41.739786",
     "exception": false,
     "start_time": "2023-08-13T15:32:41.707225",
     "status": "completed"
    },
    "tags": []
   },
   "source": [
    "# pre-processing on test dataset"
   ]
  },
  {
   "cell_type": "code",
   "execution_count": 63,
   "id": "e392e1a1",
   "metadata": {
    "execution": {
     "iopub.execute_input": "2023-08-13T15:32:41.807451Z",
     "iopub.status.busy": "2023-08-13T15:32:41.807116Z",
     "iopub.status.idle": "2023-08-13T15:32:42.152392Z",
     "shell.execute_reply": "2023-08-13T15:32:42.151231Z"
    },
    "papermill": {
     "duration": 0.381376,
     "end_time": "2023-08-13T15:32:42.154495",
     "exception": false,
     "start_time": "2023-08-13T15:32:41.773119",
     "status": "completed"
    },
    "tags": []
   },
   "outputs": [
    {
     "name": "stdout",
     "output_type": "stream",
     "text": [
      "(55315, 4)\n",
      "(55315, 17)\n",
      "movieid                     0\n",
      "reviewerName                0\n",
      "isTopCritic                 0\n",
      "reviewText               2510\n",
      "title                       0\n",
      "audienceScore            4931\n",
      "rating                  24296\n",
      "ratingContents          24296\n",
      "releaseDateTheaters     13702\n",
      "releaseDateStreaming     5974\n",
      "runtimeMinutes           1262\n",
      "genre                     920\n",
      "originalLanguage         1238\n",
      "director                    0\n",
      "boxOffice               19995\n",
      "distributor             15596\n",
      "soundType               30626\n",
      "dtype: int64\n"
     ]
    }
   ],
   "source": [
    "print(test.shape)\n",
    "test2=pd.merge(test,movies,how=\"left\",on=\"movieid\")\n",
    "print(test2.shape)\n",
    "print(test2.isnull().sum())"
   ]
  },
  {
   "cell_type": "code",
   "execution_count": 64,
   "id": "e217e5b1",
   "metadata": {
    "execution": {
     "iopub.execute_input": "2023-08-13T15:32:42.222646Z",
     "iopub.status.busy": "2023-08-13T15:32:42.222321Z",
     "iopub.status.idle": "2023-08-13T15:32:42.228575Z",
     "shell.execute_reply": "2023-08-13T15:32:42.227719Z"
    },
    "papermill": {
     "duration": 0.041671,
     "end_time": "2023-08-13T15:32:42.230363",
     "exception": false,
     "start_time": "2023-08-13T15:32:42.188692",
     "status": "completed"
    },
    "tags": []
   },
   "outputs": [
    {
     "data": {
      "text/plain": [
       "Index(['movieid', 'reviewerName', 'isTopCritic', 'reviewText', 'title',\n",
       "       'audienceScore', 'rating', 'ratingContents', 'releaseDateTheaters',\n",
       "       'releaseDateStreaming', 'runtimeMinutes', 'genre', 'originalLanguage',\n",
       "       'director', 'boxOffice', 'distributor', 'soundType'],\n",
       "      dtype='object')"
      ]
     },
     "execution_count": 64,
     "metadata": {},
     "output_type": "execute_result"
    }
   ],
   "source": [
    "test2.columns"
   ]
  },
  {
   "cell_type": "code",
   "execution_count": 65,
   "id": "df59f02a",
   "metadata": {
    "execution": {
     "iopub.execute_input": "2023-08-13T15:32:42.299132Z",
     "iopub.status.busy": "2023-08-13T15:32:42.298855Z",
     "iopub.status.idle": "2023-08-13T15:32:42.321384Z",
     "shell.execute_reply": "2023-08-13T15:32:42.320400Z"
    },
    "papermill": {
     "duration": 0.058916,
     "end_time": "2023-08-13T15:32:42.323480",
     "exception": false,
     "start_time": "2023-08-13T15:32:42.264564",
     "status": "completed"
    },
    "tags": []
   },
   "outputs": [],
   "source": [
    "dataset2=test2[['movieid','isTopCritic','reviewText','audienceScore', 'rating','runtimeMinutes']]"
   ]
  },
  {
   "cell_type": "code",
   "execution_count": 66,
   "id": "06490ba3",
   "metadata": {
    "execution": {
     "iopub.execute_input": "2023-08-13T15:32:42.391045Z",
     "iopub.status.busy": "2023-08-13T15:32:42.390724Z",
     "iopub.status.idle": "2023-08-13T15:32:42.443380Z",
     "shell.execute_reply": "2023-08-13T15:32:42.442317Z"
    },
    "papermill": {
     "duration": 0.088463,
     "end_time": "2023-08-13T15:32:42.445256",
     "exception": false,
     "start_time": "2023-08-13T15:32:42.356793",
     "status": "completed"
    },
    "tags": []
   },
   "outputs": [
    {
     "data": {
      "text/plain": [
       "movieid               0\n",
       "isTopCritic           0\n",
       "reviewText         2510\n",
       "audienceScore      4931\n",
       "rating            24296\n",
       "runtimeMinutes     1262\n",
       "dtype: int64"
      ]
     },
     "execution_count": 66,
     "metadata": {},
     "output_type": "execute_result"
    }
   ],
   "source": [
    "dataset2.isnull().sum()"
   ]
  },
  {
   "cell_type": "code",
   "execution_count": 67,
   "id": "5a464408",
   "metadata": {
    "execution": {
     "iopub.execute_input": "2023-08-13T15:32:42.513041Z",
     "iopub.status.busy": "2023-08-13T15:32:42.512748Z",
     "iopub.status.idle": "2023-08-13T15:32:42.524218Z",
     "shell.execute_reply": "2023-08-13T15:32:42.523555Z"
    },
    "papermill": {
     "duration": 0.047529,
     "end_time": "2023-08-13T15:32:42.526215",
     "exception": false,
     "start_time": "2023-08-13T15:32:42.478686",
     "status": "completed"
    },
    "tags": []
   },
   "outputs": [
    {
     "name": "stderr",
     "output_type": "stream",
     "text": [
      "/tmp/ipykernel_21/3970029622.py:1: SettingWithCopyWarning: \n",
      "A value is trying to be set on a copy of a slice from a DataFrame\n",
      "\n",
      "See the caveats in the documentation: https://pandas.pydata.org/pandas-docs/stable/user_guide/indexing.html#returning-a-view-versus-a-copy\n",
      "  dataset2[\"reviewText\"].fillna(\"\",inplace=True)\n"
     ]
    }
   ],
   "source": [
    "dataset2[\"reviewText\"].fillna(\"\",inplace=True)"
   ]
  },
  {
   "cell_type": "code",
   "execution_count": 68,
   "id": "ebe97061",
   "metadata": {
    "execution": {
     "iopub.execute_input": "2023-08-13T15:32:42.593768Z",
     "iopub.status.busy": "2023-08-13T15:32:42.593469Z",
     "iopub.status.idle": "2023-08-13T15:32:42.601830Z",
     "shell.execute_reply": "2023-08-13T15:32:42.601066Z"
    },
    "papermill": {
     "duration": 0.04424,
     "end_time": "2023-08-13T15:32:42.603442",
     "exception": false,
     "start_time": "2023-08-13T15:32:42.559202",
     "status": "completed"
    },
    "tags": []
   },
   "outputs": [
    {
     "name": "stderr",
     "output_type": "stream",
     "text": [
      "/tmp/ipykernel_21/1335107352.py:1: SettingWithCopyWarning: \n",
      "A value is trying to be set on a copy of a slice from a DataFrame\n",
      "\n",
      "See the caveats in the documentation: https://pandas.pydata.org/pandas-docs/stable/user_guide/indexing.html#returning-a-view-versus-a-copy\n",
      "  dataset2[\"audienceScore\"].fillna(dataset2[\"audienceScore\"].mean(),inplace=True)\n",
      "/tmp/ipykernel_21/1335107352.py:2: SettingWithCopyWarning: \n",
      "A value is trying to be set on a copy of a slice from a DataFrame\n",
      "\n",
      "See the caveats in the documentation: https://pandas.pydata.org/pandas-docs/stable/user_guide/indexing.html#returning-a-view-versus-a-copy\n",
      "  dataset2[\"runtimeMinutes\"].fillna(dataset2[\"runtimeMinutes\"].mean(),inplace=True)\n"
     ]
    }
   ],
   "source": [
    "dataset2[\"audienceScore\"].fillna(dataset2[\"audienceScore\"].mean(),inplace=True)\n",
    "dataset2[\"runtimeMinutes\"].fillna(dataset2[\"runtimeMinutes\"].mean(),inplace=True)"
   ]
  },
  {
   "cell_type": "code",
   "execution_count": 69,
   "id": "448e1c8a",
   "metadata": {
    "execution": {
     "iopub.execute_input": "2023-08-13T15:32:42.671853Z",
     "iopub.status.busy": "2023-08-13T15:32:42.671609Z",
     "iopub.status.idle": "2023-08-13T15:32:42.686274Z",
     "shell.execute_reply": "2023-08-13T15:32:42.685224Z"
    },
    "papermill": {
     "duration": 0.051444,
     "end_time": "2023-08-13T15:32:42.688141",
     "exception": false,
     "start_time": "2023-08-13T15:32:42.636697",
     "status": "completed"
    },
    "tags": []
   },
   "outputs": [
    {
     "name": "stderr",
     "output_type": "stream",
     "text": [
      "/tmp/ipykernel_21/2785329578.py:1: SettingWithCopyWarning: \n",
      "A value is trying to be set on a copy of a slice from a DataFrame\n",
      "\n",
      "See the caveats in the documentation: https://pandas.pydata.org/pandas-docs/stable/user_guide/indexing.html#returning-a-view-versus-a-copy\n",
      "  dataset2[\"rating\"].fillna(dataset2[\"rating\"].mode()[0],inplace=True)\n"
     ]
    }
   ],
   "source": [
    "dataset2[\"rating\"].fillna(dataset2[\"rating\"].mode()[0],inplace=True)"
   ]
  },
  {
   "cell_type": "code",
   "execution_count": 70,
   "id": "85df4d82",
   "metadata": {
    "execution": {
     "iopub.execute_input": "2023-08-13T15:32:42.755457Z",
     "iopub.status.busy": "2023-08-13T15:32:42.755171Z",
     "iopub.status.idle": "2023-08-13T15:32:42.808381Z",
     "shell.execute_reply": "2023-08-13T15:32:42.807566Z"
    },
    "papermill": {
     "duration": 0.089214,
     "end_time": "2023-08-13T15:32:42.810311",
     "exception": false,
     "start_time": "2023-08-13T15:32:42.721097",
     "status": "completed"
    },
    "tags": []
   },
   "outputs": [
    {
     "data": {
      "text/plain": [
       "movieid           0\n",
       "isTopCritic       0\n",
       "reviewText        0\n",
       "audienceScore     0\n",
       "rating            0\n",
       "runtimeMinutes    0\n",
       "dtype: int64"
      ]
     },
     "execution_count": 70,
     "metadata": {},
     "output_type": "execute_result"
    }
   ],
   "source": [
    "dataset2.isnull().sum()"
   ]
  },
  {
   "cell_type": "markdown",
   "id": "dea0cf42",
   "metadata": {
    "papermill": {
     "duration": 0.033075,
     "end_time": "2023-08-13T15:32:42.876986",
     "exception": false,
     "start_time": "2023-08-13T15:32:42.843911",
     "status": "completed"
    },
    "tags": []
   },
   "source": [
    "**#RENAME isTopCritic to isFrequentReviewer to transform the pipeline on test dataset ****"
   ]
  },
  {
   "cell_type": "code",
   "execution_count": 71,
   "id": "c9855f9c",
   "metadata": {
    "execution": {
     "iopub.execute_input": "2023-08-13T15:32:42.945045Z",
     "iopub.status.busy": "2023-08-13T15:32:42.944733Z",
     "iopub.status.idle": "2023-08-13T15:32:42.950063Z",
     "shell.execute_reply": "2023-08-13T15:32:42.949446Z"
    },
    "papermill": {
     "duration": 0.041703,
     "end_time": "2023-08-13T15:32:42.951866",
     "exception": false,
     "start_time": "2023-08-13T15:32:42.910163",
     "status": "completed"
    },
    "tags": []
   },
   "outputs": [
    {
     "name": "stderr",
     "output_type": "stream",
     "text": [
      "/tmp/ipykernel_21/2527744922.py:1: SettingWithCopyWarning: \n",
      "A value is trying to be set on a copy of a slice from a DataFrame\n",
      "\n",
      "See the caveats in the documentation: https://pandas.pydata.org/pandas-docs/stable/user_guide/indexing.html#returning-a-view-versus-a-copy\n",
      "  dataset2.rename(columns={'isTopCritic':'isFrequentReviewer'},inplace=True)\n"
     ]
    }
   ],
   "source": [
    "dataset2.rename(columns={'isTopCritic':'isFrequentReviewer'},inplace=True)"
   ]
  },
  {
   "cell_type": "code",
   "execution_count": 72,
   "id": "cf5b1f44",
   "metadata": {
    "execution": {
     "iopub.execute_input": "2023-08-13T15:32:43.020366Z",
     "iopub.status.busy": "2023-08-13T15:32:43.020037Z",
     "iopub.status.idle": "2023-08-13T15:32:44.871680Z",
     "shell.execute_reply": "2023-08-13T15:32:44.870860Z"
    },
    "papermill": {
     "duration": 1.889283,
     "end_time": "2023-08-13T15:32:44.874496",
     "exception": false,
     "start_time": "2023-08-13T15:32:42.985213",
     "status": "completed"
    },
    "tags": []
   },
   "outputs": [],
   "source": [
    "x_test=pipe.transform(dataset2)"
   ]
  },
  {
   "cell_type": "code",
   "execution_count": 73,
   "id": "9304310c",
   "metadata": {
    "execution": {
     "iopub.execute_input": "2023-08-13T15:32:44.965952Z",
     "iopub.status.busy": "2023-08-13T15:32:44.965535Z",
     "iopub.status.idle": "2023-08-13T15:32:45.140011Z",
     "shell.execute_reply": "2023-08-13T15:32:45.138967Z"
    },
    "papermill": {
     "duration": 0.224153,
     "end_time": "2023-08-13T15:32:45.142776",
     "exception": false,
     "start_time": "2023-08-13T15:32:44.918623",
     "status": "completed"
    },
    "tags": []
   },
   "outputs": [],
   "source": [
    "y_prediction1=pd.DataFrame(best_svc.predict(x_test))\n",
    "y_prediction1.columns=['sentiment']\n",
    "y_prediction1.index.name='id'\n",
    "y_prediction1.to_csv('submission.csv')"
   ]
  },
  {
   "cell_type": "markdown",
   "id": "3a7e9427",
   "metadata": {
    "papermill": {
     "duration": 0.035347,
     "end_time": "2023-08-13T15:32:45.217753",
     "exception": false,
     "start_time": "2023-08-13T15:32:45.182406",
     "status": "completed"
    },
    "tags": []
   },
   "source": [
    "# INSIGHTS FROM THE MODELS\n",
    "After performing all the operations on the dataset like EDA,Cheacking and replacing the null values, pre processing the data we apply three models with their hyperparameter tuning and we get follwing accuracy scores from these models \n",
    "\n",
    "1>Logistic Regression-83.029%\n",
    "\n",
    "2>LinearSVM-81.612%\n",
    "\n",
    "3>Naive Bayes-80.043%"
   ]
  }
 ],
 "metadata": {
  "kernelspec": {
   "display_name": "Python 3",
   "language": "python",
   "name": "python3"
  },
  "language_info": {
   "codemirror_mode": {
    "name": "ipython",
    "version": 3
   },
   "file_extension": ".py",
   "mimetype": "text/x-python",
   "name": "python",
   "nbconvert_exporter": "python",
   "pygments_lexer": "ipython3",
   "version": "3.10.10"
  },
  "papermill": {
   "default_parameters": {},
   "duration": 215.167235,
   "end_time": "2023-08-13T15:32:47.871908",
   "environment_variables": {},
   "exception": null,
   "input_path": "__notebook__.ipynb",
   "output_path": "__notebook__.ipynb",
   "parameters": {},
   "start_time": "2023-08-13T15:29:12.704673",
   "version": "2.4.0"
  }
 },
 "nbformat": 4,
 "nbformat_minor": 5
}
